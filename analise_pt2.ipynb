{
 "cells": [
  {
   "cell_type": "code",
   "execution_count": 4,
   "metadata": {
    "id": "rqg1qPbO27zR"
   },
   "outputs": [],
   "source": [
    "import numpy as np\n",
    "import pandas as pd\n",
    "import seaborn as sns\n",
    "import matplotlib.pyplot as plt"
   ]
  },
  {
   "cell_type": "code",
   "execution_count": 5,
   "metadata": {
    "colab": {
     "base_uri": "https://localhost:8080/"
    },
    "id": "VdhaVSwZ8IQK",
    "outputId": "c23335d2-0938-46a9-a6c5-05358bd7aa53"
   },
   "outputs": [
    {
     "name": "stdout",
     "output_type": "stream",
     "text": [
      "Mounted at /content/drive\n"
     ]
    }
   ],
   "source": [
    "try:\n",
    "    from google.colab import drive\n",
    "    my_path = 'drive/My Drive/techlabs/'\n",
    "    drive.mount('/content/drive')\n",
    "except:\n",
    "    my_path = 'dados/'"
   ]
  },
  {
   "cell_type": "code",
   "execution_count": 6,
   "metadata": {
    "colab": {
     "base_uri": "https://localhost:8080/",
     "height": 261
    },
    "id": "AuSOsTqjtnFn",
    "outputId": "7d05c86e-4085-4fc9-adf6-f28fc08e1741"
   },
   "outputs": [
    {
     "name": "stdout",
     "output_type": "stream",
     "text": [
      "Shape: (3931570, 42)\n",
      "Memory: 383 MB\n"
     ]
    },
    {
     "data": {
      "text/html": [
       "<div>\n",
       "<style scoped>\n",
       "    .dataframe tbody tr th:only-of-type {\n",
       "        vertical-align: middle;\n",
       "    }\n",
       "\n",
       "    .dataframe tbody tr th {\n",
       "        vertical-align: top;\n",
       "    }\n",
       "\n",
       "    .dataframe thead th {\n",
       "        text-align: right;\n",
       "    }\n",
       "</style>\n",
       "<table border=\"1\" class=\"dataframe\">\n",
       "  <thead>\n",
       "    <tr style=\"text-align: right;\">\n",
       "      <th></th>\n",
       "      <th>NO_MUNICIPIO_RESIDENCIA</th>\n",
       "      <th>SG_UF_RESIDENCIA</th>\n",
       "      <th>NU_IDADE</th>\n",
       "      <th>TP_SEXO</th>\n",
       "      <th>TP_ESTADO_CIVIL</th>\n",
       "      <th>TP_COR_RACA</th>\n",
       "      <th>TP_NACIONALIDADE</th>\n",
       "      <th>NO_MUNICIPIO_NASCIMENTO</th>\n",
       "      <th>SG_UF_NASCIMENTO</th>\n",
       "      <th>TP_ST_CONCLUSAO</th>\n",
       "      <th>TP_ANO_CONCLUIU</th>\n",
       "      <th>TP_ESCOLA</th>\n",
       "      <th>TP_ENSINO</th>\n",
       "      <th>IN_TREINEIRO</th>\n",
       "      <th>NO_MUNICIPIO_PROVA</th>\n",
       "      <th>SG_UF_PROVA</th>\n",
       "      <th>NU_NOTA_CN</th>\n",
       "      <th>NU_NOTA_CH</th>\n",
       "      <th>NU_NOTA_LC</th>\n",
       "      <th>NU_NOTA_MT</th>\n",
       "      <th>TP_LINGUA</th>\n",
       "      <th>TP_STATUS_REDACAO</th>\n",
       "      <th>NU_NOTA_REDACAO</th>\n",
       "      <th>Q001</th>\n",
       "      <th>Q002</th>\n",
       "      <th>Q003</th>\n",
       "      <th>Q004</th>\n",
       "      <th>Q005</th>\n",
       "      <th>Q006</th>\n",
       "      <th>Q007</th>\n",
       "      <th>Q008</th>\n",
       "      <th>Q009</th>\n",
       "      <th>Q010</th>\n",
       "      <th>Q011</th>\n",
       "      <th>Q012</th>\n",
       "      <th>Q022</th>\n",
       "      <th>Q023</th>\n",
       "      <th>Q024</th>\n",
       "      <th>Q025</th>\n",
       "      <th>IN_ESPECIALIZADO</th>\n",
       "      <th>IN_ESPECIFICO</th>\n",
       "      <th>IN_RECURSO</th>\n",
       "    </tr>\n",
       "  </thead>\n",
       "  <tbody>\n",
       "    <tr>\n",
       "      <th>0</th>\n",
       "      <td>Santarém</td>\n",
       "      <td>PA</td>\n",
       "      <td>21</td>\n",
       "      <td>M</td>\n",
       "      <td>1</td>\n",
       "      <td>3</td>\n",
       "      <td>4</td>\n",
       "      <td>NaN</td>\n",
       "      <td>NaN</td>\n",
       "      <td>1</td>\n",
       "      <td>3</td>\n",
       "      <td>1</td>\n",
       "      <td>NaN</td>\n",
       "      <td>0</td>\n",
       "      <td>Santarém</td>\n",
       "      <td>PA</td>\n",
       "      <td>472.899994</td>\n",
       "      <td>466.000000</td>\n",
       "      <td>497.299988</td>\n",
       "      <td>369.100006</td>\n",
       "      <td>0</td>\n",
       "      <td>1</td>\n",
       "      <td>780.0</td>\n",
       "      <td>D</td>\n",
       "      <td>E</td>\n",
       "      <td>A</td>\n",
       "      <td>A</td>\n",
       "      <td>7</td>\n",
       "      <td>B</td>\n",
       "      <td>A</td>\n",
       "      <td>B</td>\n",
       "      <td>C</td>\n",
       "      <td>A</td>\n",
       "      <td>A</td>\n",
       "      <td>B</td>\n",
       "      <td>D</td>\n",
       "      <td>A</td>\n",
       "      <td>B</td>\n",
       "      <td>A</td>\n",
       "      <td>False</td>\n",
       "      <td>False</td>\n",
       "      <td>False</td>\n",
       "    </tr>\n",
       "    <tr>\n",
       "      <th>1</th>\n",
       "      <td>Mãe do Rio</td>\n",
       "      <td>PA</td>\n",
       "      <td>16</td>\n",
       "      <td>F</td>\n",
       "      <td>1</td>\n",
       "      <td>3</td>\n",
       "      <td>1</td>\n",
       "      <td>Paragominas</td>\n",
       "      <td>PA</td>\n",
       "      <td>3</td>\n",
       "      <td>0</td>\n",
       "      <td>1</td>\n",
       "      <td>NaN</td>\n",
       "      <td>1</td>\n",
       "      <td>Mãe do Rio</td>\n",
       "      <td>PA</td>\n",
       "      <td>358.899994</td>\n",
       "      <td>495.399994</td>\n",
       "      <td>482.299988</td>\n",
       "      <td>416.500000</td>\n",
       "      <td>1</td>\n",
       "      <td>1</td>\n",
       "      <td>600.0</td>\n",
       "      <td>D</td>\n",
       "      <td>E</td>\n",
       "      <td>A</td>\n",
       "      <td>A</td>\n",
       "      <td>5</td>\n",
       "      <td>B</td>\n",
       "      <td>A</td>\n",
       "      <td>B</td>\n",
       "      <td>C</td>\n",
       "      <td>A</td>\n",
       "      <td>A</td>\n",
       "      <td>B</td>\n",
       "      <td>B</td>\n",
       "      <td>A</td>\n",
       "      <td>A</td>\n",
       "      <td>A</td>\n",
       "      <td>False</td>\n",
       "      <td>False</td>\n",
       "      <td>False</td>\n",
       "    </tr>\n",
       "    <tr>\n",
       "      <th>2</th>\n",
       "      <td>Paragominas</td>\n",
       "      <td>PA</td>\n",
       "      <td>18</td>\n",
       "      <td>F</td>\n",
       "      <td>1</td>\n",
       "      <td>1</td>\n",
       "      <td>1</td>\n",
       "      <td>Paragominas</td>\n",
       "      <td>PA</td>\n",
       "      <td>2</td>\n",
       "      <td>0</td>\n",
       "      <td>3</td>\n",
       "      <td>1</td>\n",
       "      <td>0</td>\n",
       "      <td>Paragominas</td>\n",
       "      <td>PA</td>\n",
       "      <td>574.200012</td>\n",
       "      <td>538.700012</td>\n",
       "      <td>582.599976</td>\n",
       "      <td>571.500000</td>\n",
       "      <td>0</td>\n",
       "      <td>1</td>\n",
       "      <td>640.0</td>\n",
       "      <td>H</td>\n",
       "      <td>E</td>\n",
       "      <td>A</td>\n",
       "      <td>D</td>\n",
       "      <td>3</td>\n",
       "      <td>C</td>\n",
       "      <td>D</td>\n",
       "      <td>E</td>\n",
       "      <td>E</td>\n",
       "      <td>C</td>\n",
       "      <td>A</td>\n",
       "      <td>B</td>\n",
       "      <td>D</td>\n",
       "      <td>A</td>\n",
       "      <td>C</td>\n",
       "      <td>B</td>\n",
       "      <td>False</td>\n",
       "      <td>False</td>\n",
       "      <td>False</td>\n",
       "    </tr>\n",
       "    <tr>\n",
       "      <th>3</th>\n",
       "      <td>Ananindeua</td>\n",
       "      <td>PA</td>\n",
       "      <td>31</td>\n",
       "      <td>M</td>\n",
       "      <td>1</td>\n",
       "      <td>1</td>\n",
       "      <td>1</td>\n",
       "      <td>Belém</td>\n",
       "      <td>PA</td>\n",
       "      <td>1</td>\n",
       "      <td>7</td>\n",
       "      <td>1</td>\n",
       "      <td>1</td>\n",
       "      <td>0</td>\n",
       "      <td>Belém</td>\n",
       "      <td>PA</td>\n",
       "      <td>522.000000</td>\n",
       "      <td>592.599976</td>\n",
       "      <td>582.000000</td>\n",
       "      <td>605.299988</td>\n",
       "      <td>1</td>\n",
       "      <td>1</td>\n",
       "      <td>580.0</td>\n",
       "      <td>C</td>\n",
       "      <td>C</td>\n",
       "      <td>C</td>\n",
       "      <td>D</td>\n",
       "      <td>5</td>\n",
       "      <td>C</td>\n",
       "      <td>A</td>\n",
       "      <td>B</td>\n",
       "      <td>C</td>\n",
       "      <td>A</td>\n",
       "      <td>A</td>\n",
       "      <td>B</td>\n",
       "      <td>D</td>\n",
       "      <td>A</td>\n",
       "      <td>A</td>\n",
       "      <td>A</td>\n",
       "      <td>False</td>\n",
       "      <td>False</td>\n",
       "      <td>False</td>\n",
       "    </tr>\n",
       "    <tr>\n",
       "      <th>4</th>\n",
       "      <td>Marabá</td>\n",
       "      <td>PA</td>\n",
       "      <td>30</td>\n",
       "      <td>F</td>\n",
       "      <td>2</td>\n",
       "      <td>3</td>\n",
       "      <td>1</td>\n",
       "      <td>Marabá</td>\n",
       "      <td>PA</td>\n",
       "      <td>1</td>\n",
       "      <td>10</td>\n",
       "      <td>1</td>\n",
       "      <td>1</td>\n",
       "      <td>0</td>\n",
       "      <td>Marabá</td>\n",
       "      <td>PA</td>\n",
       "      <td>407.399994</td>\n",
       "      <td>480.100006</td>\n",
       "      <td>464.299988</td>\n",
       "      <td>581.500000</td>\n",
       "      <td>1</td>\n",
       "      <td>1</td>\n",
       "      <td>360.0</td>\n",
       "      <td>B</td>\n",
       "      <td>B</td>\n",
       "      <td>A</td>\n",
       "      <td>A</td>\n",
       "      <td>4</td>\n",
       "      <td>C</td>\n",
       "      <td>A</td>\n",
       "      <td>B</td>\n",
       "      <td>B</td>\n",
       "      <td>A</td>\n",
       "      <td>B</td>\n",
       "      <td>B</td>\n",
       "      <td>B</td>\n",
       "      <td>A</td>\n",
       "      <td>A</td>\n",
       "      <td>B</td>\n",
       "      <td>False</td>\n",
       "      <td>False</td>\n",
       "      <td>False</td>\n",
       "    </tr>\n",
       "  </tbody>\n",
       "</table>\n",
       "</div>"
      ],
      "text/plain": [
       "  NO_MUNICIPIO_RESIDENCIA SG_UF_RESIDENCIA  ...  IN_ESPECIFICO IN_RECURSO\n",
       "0                Santarém               PA  ...          False      False\n",
       "1              Mãe do Rio               PA  ...          False      False\n",
       "2             Paragominas               PA  ...          False      False\n",
       "3              Ananindeua               PA  ...          False      False\n",
       "4                  Marabá               PA  ...          False      False\n",
       "\n",
       "[5 rows x 42 columns]"
      ]
     },
     "metadata": {
      "tags": []
     },
     "output_type": "display_data"
    }
   ],
   "source": [
    "df = pd.read_pickle(my_path + 'final-3.6.pkl.xz')\n",
    "df = df.reset_index(drop=True)\n",
    "print(f'Shape: {df.shape}')\n",
    "print(f'Memory: {df.memory_usage().sum() // (1024**2) + 1} MB')\n",
    "display(df.head())"
   ]
  },
  {
   "cell_type": "markdown",
   "metadata": {
    "id": "2hx7TVruNIbJ"
   },
   "source": [
    "***Colunas que eu fiquei para analisar***\n",
    "\n",
    "'NO_MUNICIPIO_RESIDENCIA', 'SG_UF_RESIDENCIA', 'SG_UF_NASCIMENTO', 'NO_MUNICIPIO_NASCIMENTO',  'NO_MUNICIPIO_PROVA', 'SG_UF_PROVA',\n",
    "'NU_IDADE', 'TP_SEXO','TP_ESTADO_CIVIL','TP_COR_RACA','TP_NACIONALIDADE','TP_LINGUA'\n",
    "\n",
    "|Coluna|Descrição|\n",
    "|---|---|\n",
    "|NO_MUNICIPIO_RESIDENCIA|Nome do município de residência|\n",
    "|SG_UF_RESIDENCIA|Sigla da Unidade da Federação de residência|\n",
    "|SG_UF_NASCIMENTO|Sigla da Unidade da Federação de nascimento|\n",
    "|NO_MUNICIPIO_NASCIMENTO|Nome do município de nascimento|\n",
    "|NO_MUNICIPIO_PROVA|Nome do município da aplicação da prova|\n",
    "|SG_UF_PROVA|Sigla da Unidade da Federação da aplicação da prova|\n",
    "|NU_IDADE|Idade2|\n",
    "|TP_SEXO|Sexo|\n",
    "|TP_ESTADO_CIVIL|Estado Civil|\n",
    "|TP_COR_RACA|Cor/raça|\n",
    "|TP_NACIONALIDADE|Nacionalidade|\n",
    "|TP_LINGUA|Língua Estrangeira|\n"
   ]
  },
  {
   "cell_type": "code",
   "execution_count": 7,
   "metadata": {
    "id": "J4_9ubjPD0f4"
   },
   "outputs": [],
   "source": [
    "provas = ['NU_NOTA_CN', 'NU_NOTA_CH', 'NU_NOTA_LC', 'NU_NOTA_MT', 'NU_NOTA_REDACAO']"
   ]
  },
  {
   "cell_type": "code",
   "execution_count": 8,
   "metadata": {
    "id": "UBO7AYazPMwZ"
   },
   "outputs": [],
   "source": [
    "colunas = [\n",
    "  'NO_MUNICIPIO_RESIDENCIA', 'SG_UF_RESIDENCIA', 'SG_UF_NASCIMENTO',\n",
    "  'NO_MUNICIPIO_NASCIMENTO',  'NO_MUNICIPIO_PROVA', 'SG_UF_PROVA', 'NU_IDADE',\n",
    "  'TP_SEXO','TP_ESTADO_CIVIL','TP_COR_RACA','TP_NACIONALIDADE','TP_LINGUA'\n",
    "]"
   ]
  },
  {
   "cell_type": "code",
   "execution_count": 9,
   "metadata": {
    "id": "e2nMkF0uPK7a"
   },
   "outputs": [],
   "source": [
    "import json\n",
    "\n",
    "with open(my_path + 'categorias.json', 'r') as f:\n",
    "    c = json.load(f)\n",
    "    categorias = {\n",
    "        **c['participante'], **c['escola'], **c['especializado'], **c['especifico'],\n",
    "        **c['recurso'], **c['local_prova'], **c['prova'], **c['redacao'], **c['socioeconomico']\n",
    "    }"
   ]
  },
  {
   "cell_type": "code",
   "execution_count": 10,
   "metadata": {
    "colab": {
     "base_uri": "https://localhost:8080/",
     "height": 416
    },
    "id": "uDX1Sve5PbwI",
    "outputId": "92b8340b-2aa7-4c79-d850-36a2a48b866d"
   },
   "outputs": [
    {
     "name": "stdout",
     "output_type": "stream",
     "text": [
      "TP_SEXO\n"
     ]
    },
    {
     "data": {
      "text/plain": [
       "{'F': 'Feminino ', 'M': 'Masculino'}"
      ]
     },
     "metadata": {
      "tags": []
     },
     "output_type": "display_data"
    },
    {
     "name": "stdout",
     "output_type": "stream",
     "text": [
      "TP_ESTADO_CIVIL\n"
     ]
    },
    {
     "data": {
      "text/plain": [
       "{'0': 'Não informado',\n",
       " '1': 'Solteiro(a)',\n",
       " '2': 'Casado(a)/Mora com companheiro(a)',\n",
       " '3': 'Divorciado(a)/Desquitado(a)/Separado(a)',\n",
       " '4': 'Viúvo(a)'}"
      ]
     },
     "metadata": {
      "tags": []
     },
     "output_type": "display_data"
    },
    {
     "name": "stdout",
     "output_type": "stream",
     "text": [
      "TP_COR_RACA\n"
     ]
    },
    {
     "data": {
      "text/plain": [
       "{'0': 'Não declarado',\n",
       " '1': 'Branca',\n",
       " '2': 'Preta',\n",
       " '3': 'Parda',\n",
       " '4': 'Amarela',\n",
       " '5': 'Indígena '}"
      ]
     },
     "metadata": {
      "tags": []
     },
     "output_type": "display_data"
    },
    {
     "name": "stdout",
     "output_type": "stream",
     "text": [
      "TP_NACIONALIDADE\n"
     ]
    },
    {
     "data": {
      "text/plain": [
       "{'0': 'Não informado',\n",
       " '1': 'Brasileiro(a)',\n",
       " '2': 'Brasileiro(a) Naturalizado(a)',\n",
       " '3': 'Estrangeiro(a)',\n",
       " '4': 'Brasileiro(a) Nato(a), nascido(a) no exterior'}"
      ]
     },
     "metadata": {
      "tags": []
     },
     "output_type": "display_data"
    },
    {
     "name": "stdout",
     "output_type": "stream",
     "text": [
      "TP_LINGUA\n"
     ]
    },
    {
     "data": {
      "text/plain": [
       "{'0': 'Inglês', '1': 'Espanhol'}"
      ]
     },
     "metadata": {
      "tags": []
     },
     "output_type": "display_data"
    }
   ],
   "source": [
    "for c in colunas:\n",
    "    if c in categorias:\n",
    "        print(c)\n",
    "        display(categorias[c])"
   ]
  },
  {
   "cell_type": "markdown",
   "metadata": {
    "id": "9f8CHC8Njz_a"
   },
   "source": [
    "## Análises"
   ]
  },
  {
   "cell_type": "code",
   "execution_count": 11,
   "metadata": {
    "id": "P-LJQmMPO8_b"
   },
   "outputs": [],
   "source": [
    "Norte = ['AM','RR','AP','PA','TO','RO','AC']\n",
    "Nordeste = ['MA','PI','CE','RN','PE','PB','SE','AL','BA']\n",
    "Centro_Oeste = ['MT','MS','GO']\n",
    "Sudeste = ['SP','RJ','ES','MG']\n",
    "Sul = ['PR','SC','RS']\n",
    "regioes = [Norte,Nordeste,Centro_Oeste,Sudeste,Sul]"
   ]
  },
  {
   "cell_type": "code",
   "execution_count": 12,
   "metadata": {
    "id": "q98XIksMduBj"
   },
   "outputs": [],
   "source": [
    "dicionario_regioes ={'AM':'NORTE','RR':'NORTE','AP':'NORTE','PA':'NORTE','TO':'NORTE','RO':'NORTE','AC':'NORTE',\n",
    "       'MA':'NORDESTE','PI':'NORDESTE','CE':'NORDESTE','RN':'NORDESTE','PE':'NORDESTE','PB':'NORDESTE',\n",
    "       'SE':'NORDESTE','AL':'NORDESTE','BA':'NORDESTE','MT':'CENTRO-OESTE','MS':'CENTRO-OESTE',\n",
    "       'GO':'CENTRO-OESTE','DF':'CENTRO-OESTE','SP':'SUDESTE','RJ':'SUDESTE','ES':'SUDESTE','MG':'SUDESTE','PR':'SUL',\n",
    "       'SC':'SUL','RS':'SUL'}\n",
    "\n",
    "df['Regiao_moradia'] = df['SG_UF_RESIDENCIA'].apply(lambda x : dicionario_regioes[x])"
   ]
  },
  {
   "cell_type": "code",
   "execution_count": 13,
   "metadata": {
    "colab": {
     "base_uri": "https://localhost:8080/"
    },
    "id": "u7G91x82k17t",
    "outputId": "0f214099-cff7-46d0-fdc7-7e153d4a6464"
   },
   "outputs": [
    {
     "data": {
      "text/plain": [
       "São Paulo         174342\n",
       "Rio de Janeiro    107276\n",
       "Fortaleza          73880\n",
       "Brasília           71267\n",
       "Salvador           65606\n",
       "                   ...  \n",
       "Sério                  6\n",
       "Guaporema              6\n",
       "Araguainha             4\n",
       "Uiramutã               4\n",
       "Forquetinha            4\n",
       "Name: NO_MUNICIPIO_RESIDENCIA, Length: 5299, dtype: int64"
      ]
     },
     "execution_count": 13,
     "metadata": {
      "tags": []
     },
     "output_type": "execute_result"
    }
   ],
   "source": [
    "df['NO_MUNICIPIO_RESIDENCIA'].value_counts()"
   ]
  },
  {
   "cell_type": "code",
   "execution_count": 14,
   "metadata": {
    "id": "BQgCIKGIjEbO"
   },
   "outputs": [],
   "source": [
    "Capital = [\n",
    "  'Rio Branco', 'Maceió', 'Macapá', 'Manaus','Salavador',\n",
    "  'Fortaleza', 'Brasília',  'Vitória', 'Goiânia',\n",
    "  'São Luís', 'Cuiabá', 'Campo Grande', 'Belo Horizonte', 'Belém'\n",
    "  'João Pessoa', 'Curitiba', 'Recife', 'Teresina', 'Rio de Janeiro'\n",
    "  'Natal', 'Porto Alegre', 'Porto Velho', 'Boa Vista', 'Florianópolis',\n",
    "  'São Paulo', 'Aracaju', 'Palmas'\n",
    "]\n",
    "\n",
    "df['Tipo_cidade'] = np.where(df['NO_MUNICIPIO_RESIDENCIA'].isin(Capital), 'Capital', 'Interior')"
   ]
  },
  {
   "cell_type": "code",
   "execution_count": 15,
   "metadata": {
    "colab": {
     "base_uri": "https://localhost:8080/",
     "height": 402
    },
    "id": "zeHoCZ5Rc6pV",
    "outputId": "defc99c8-d3e2-4890-c2f1-e9f0c543ea9d"
   },
   "outputs": [
    {
     "data": {
      "image/png": "[encoded data removed]",
      "text/plain": [
       "<Figure size 1080x360 with 2 Axes>"
      ]
     },
     "metadata": {
      "needs_background": "light",
      "tags": []
     },
     "output_type": "display_data"
    }
   ],
   "source": [
    "fig, axs = plt.subplots(1, 2, figsize=(15,5))\n",
    "variavel = 'Regiao_moradia'\n",
    "df[variavel].value_counts(normalize=True).plot.bar(ax=axs[0], grid=True)\n",
    "axs[0].set_xlabel(variavel)\n",
    "\n",
    "variavel = 'Tipo_cidade'\n",
    "df[variavel].value_counts(normalize=True).plot.bar(ax=axs[1], grid=True)\n",
    "axs[1].set_xlabel(variavel)\n",
    "\n",
    "plt.show()"
   ]
  },
  {
   "cell_type": "code",
   "execution_count": 16,
   "metadata": {
    "id": "O9nh2JiHzA1c"
   },
   "outputs": [],
   "source": [
    "df['mudou_endereco'] = np.where(df['NO_MUNICIPIO_NASCIMENTO']==df['NO_MUNICIPIO_RESIDENCIA'], False, True)\n",
    "df['moveu_prova'] = np.where(df['NO_MUNICIPIO_RESIDENCIA']==df['NO_MUNICIPIO_PROVA'], False, True)"
   ]
  },
  {
   "cell_type": "code",
   "execution_count": 17,
   "metadata": {
    "colab": {
     "base_uri": "https://localhost:8080/",
     "height": 350
    },
    "id": "flYT7XHidnHH",
    "outputId": "c4cd8efd-656e-4292-c245-c756592b3c8c"
   },
   "outputs": [
    {
     "data": {
      "image/png": "[encoded data removed]",
      "text/plain": [
       "<Figure size 1080x360 with 2 Axes>"
      ]
     },
     "metadata": {
      "needs_background": "light",
      "tags": []
     },
     "output_type": "display_data"
    }
   ],
   "source": [
    "fig, axs = plt.subplots(1, 2, figsize=(15,5))\n",
    "variavel = 'mudou_endereco'\n",
    "df[variavel].value_counts(normalize=True).plot.bar(ax=axs[0], grid=True)\n",
    "axs[0].set_xlabel(variavel)\n",
    "\n",
    "variavel = 'moveu_prova'\n",
    "df[variavel].value_counts(normalize=True).plot.bar(ax=axs[1], grid=True)\n",
    "axs[1].set_xlabel(variavel)\n",
    "\n",
    "plt.show()"
   ]
  },
  {
   "cell_type": "code",
   "execution_count": 18,
   "metadata": {
    "colab": {
     "base_uri": "https://localhost:8080/"
    },
    "id": "4FJekPYcuhkr",
    "outputId": "fb99f607-11d6-4989-c9ef-f8fbbc34880c"
   },
   "outputs": [
    {
     "data": {
      "text/plain": [
       "17    779146\n",
       "18    743880\n",
       "19    454445\n",
       "20    304136\n",
       "16    297390\n",
       "       ...  \n",
       "84         1\n",
       "85         1\n",
       "86         1\n",
       "88         1\n",
       "1          1\n",
       "Name: NU_IDADE, Length: 89, dtype: int64"
      ]
     },
     "execution_count": 18,
     "metadata": {
      "tags": []
     },
     "output_type": "execute_result"
    }
   ],
   "source": [
    "df['NU_IDADE'].value_counts()"
   ]
  },
  {
   "cell_type": "code",
   "execution_count": 19,
   "metadata": {
    "id": "eZUHPSh9TnVs"
   },
   "outputs": [],
   "source": [
    "df['faixa_idades']=pd.cut(\n",
    "   df['NU_IDADE'],\n",
    "   bins=[0,16, 19, 22, 25, 29, 35, 40, 50, 60, 70, 80, 90],\n",
    "   labels=['0-15','16-18','19-21','22-24','25-28', '29-34', '35-39', '40-49', '50-59','60-69','70-79','80-89']\n",
    ")"
   ]
  },
  {
   "cell_type": "code",
   "execution_count": 20,
   "metadata": {
    "colab": {
     "base_uri": "https://localhost:8080/",
     "height": 410
    },
    "id": "Wsmd5c-Y2BMU",
    "outputId": "3efa8a24-bc10-4422-fed6-ade27bb4a9b6"
   },
   "outputs": [
    {
     "data": {
      "text/plain": [
       "<matplotlib.axes._subplots.AxesSubplot at 0x7fa11342c828>"
      ]
     },
     "execution_count": 20,
     "metadata": {
      "tags": []
     },
     "output_type": "execute_result"
    },
    {
     "data": {
      "image/png": "[encoded data removed]",
      "text/plain": [
       "<Figure size 720x432 with 1 Axes>"
      ]
     },
     "metadata": {
      "needs_background": "light",
      "tags": []
     },
     "output_type": "display_data"
    }
   ],
   "source": [
    "df['faixa_idades'].value_counts(normalize=True).sort_index().plot.bar(figsize=(10,6), grid=True)"
   ]
  },
  {
   "cell_type": "code",
   "execution_count": 21,
   "metadata": {
    "colab": {
     "base_uri": "https://localhost:8080/",
     "height": 443
    },
    "id": "LF_DDIBAga6o",
    "outputId": "0a38c4f1-01e3-45cf-fc76-60604b5b50db"
   },
   "outputs": [
    {
     "name": "stdout",
     "output_type": "stream",
     "text": [
      "faixa_idades\n"
     ]
    },
    {
     "data": {
      "text/html": [
       "<div>\n",
       "<style scoped>\n",
       "    .dataframe tbody tr th:only-of-type {\n",
       "        vertical-align: middle;\n",
       "    }\n",
       "\n",
       "    .dataframe tbody tr th {\n",
       "        vertical-align: top;\n",
       "    }\n",
       "\n",
       "    .dataframe thead th {\n",
       "        text-align: right;\n",
       "    }\n",
       "</style>\n",
       "<table border=\"1\" class=\"dataframe\">\n",
       "  <thead>\n",
       "    <tr style=\"text-align: right;\">\n",
       "      <th></th>\n",
       "      <th>descricao</th>\n",
       "      <th>frequencia</th>\n",
       "      <th>porcentagem</th>\n",
       "      <th>acumulado</th>\n",
       "    </tr>\n",
       "  </thead>\n",
       "  <tbody>\n",
       "    <tr>\n",
       "      <th>0</th>\n",
       "      <td>0-15</td>\n",
       "      <td>374882</td>\n",
       "      <td>0.095352</td>\n",
       "      <td>0.095352</td>\n",
       "    </tr>\n",
       "    <tr>\n",
       "      <th>1</th>\n",
       "      <td>16-18</td>\n",
       "      <td>1977471</td>\n",
       "      <td>0.502973</td>\n",
       "      <td>0.598324</td>\n",
       "    </tr>\n",
       "    <tr>\n",
       "      <th>2</th>\n",
       "      <td>19-21</td>\n",
       "      <td>667491</td>\n",
       "      <td>0.169777</td>\n",
       "      <td>0.768102</td>\n",
       "    </tr>\n",
       "    <tr>\n",
       "      <th>3</th>\n",
       "      <td>22-24</td>\n",
       "      <td>302316</td>\n",
       "      <td>0.076895</td>\n",
       "      <td>0.844996</td>\n",
       "    </tr>\n",
       "    <tr>\n",
       "      <th>4</th>\n",
       "      <td>25-28</td>\n",
       "      <td>205566</td>\n",
       "      <td>0.052286</td>\n",
       "      <td>0.897282</td>\n",
       "    </tr>\n",
       "    <tr>\n",
       "      <th>5</th>\n",
       "      <td>29-34</td>\n",
       "      <td>175903</td>\n",
       "      <td>0.044741</td>\n",
       "      <td>0.942023</td>\n",
       "    </tr>\n",
       "    <tr>\n",
       "      <th>6</th>\n",
       "      <td>35-39</td>\n",
       "      <td>96279</td>\n",
       "      <td>0.024489</td>\n",
       "      <td>0.966512</td>\n",
       "    </tr>\n",
       "    <tr>\n",
       "      <th>7</th>\n",
       "      <td>40-49</td>\n",
       "      <td>95193</td>\n",
       "      <td>0.024212</td>\n",
       "      <td>0.990725</td>\n",
       "    </tr>\n",
       "    <tr>\n",
       "      <th>8</th>\n",
       "      <td>50-59</td>\n",
       "      <td>30824</td>\n",
       "      <td>0.007840</td>\n",
       "      <td>0.998565</td>\n",
       "    </tr>\n",
       "    <tr>\n",
       "      <th>9</th>\n",
       "      <td>60-69</td>\n",
       "      <td>5178</td>\n",
       "      <td>0.001317</td>\n",
       "      <td>0.999882</td>\n",
       "    </tr>\n",
       "    <tr>\n",
       "      <th>10</th>\n",
       "      <td>70-79</td>\n",
       "      <td>445</td>\n",
       "      <td>0.000113</td>\n",
       "      <td>0.999995</td>\n",
       "    </tr>\n",
       "    <tr>\n",
       "      <th>11</th>\n",
       "      <td>80-89</td>\n",
       "      <td>20</td>\n",
       "      <td>0.000005</td>\n",
       "      <td>1.000000</td>\n",
       "    </tr>\n",
       "  </tbody>\n",
       "</table>\n",
       "</div>"
      ],
      "text/plain": [
       "   descricao  frequencia  porcentagem  acumulado\n",
       "0       0-15      374882     0.095352   0.095352\n",
       "1      16-18     1977471     0.502973   0.598324\n",
       "2      19-21      667491     0.169777   0.768102\n",
       "3      22-24      302316     0.076895   0.844996\n",
       "4      25-28      205566     0.052286   0.897282\n",
       "5      29-34      175903     0.044741   0.942023\n",
       "6      35-39       96279     0.024489   0.966512\n",
       "7      40-49       95193     0.024212   0.990725\n",
       "8      50-59       30824     0.007840   0.998565\n",
       "9      60-69        5178     0.001317   0.999882\n",
       "10     70-79         445     0.000113   0.999995\n",
       "11     80-89          20     0.000005   1.000000"
      ]
     },
     "metadata": {
      "tags": []
     },
     "output_type": "display_data"
    }
   ],
   "source": [
    "variavel = 'faixa_idades'\n",
    "tabela = pd.DataFrame({\n",
    "    'descricao': list(df[variavel].dtype.categories),\n",
    "    'frequencia': list(df[variavel].value_counts().sort_index()),\n",
    "    'porcentagem': list(df[variavel].value_counts(normalize=True).sort_index())\n",
    "})\n",
    "tabela['acumulado'] = tabela['porcentagem'].cumsum()\n",
    "print(variavel)\n",
    "display(tabela)"
   ]
  },
  {
   "cell_type": "code",
   "execution_count": 22,
   "metadata": {
    "id": "ii55DbNpZDtg"
   },
   "outputs": [],
   "source": [
    "def cria_tabela(variavel):\n",
    "    tabela = pd.DataFrame({\n",
    "        'descricao': list(categorias[variavel].values()),\n",
    "        'frequencia': list(df[variavel].value_counts().sort_index()),\n",
    "        'porcentagem': list(df[variavel].value_counts(normalize=True).sort_index())\n",
    "    })\n",
    "    print(variavel)\n",
    "    display(tabela)"
   ]
  },
  {
   "cell_type": "code",
   "execution_count": 23,
   "metadata": {
    "colab": {
     "base_uri": "https://localhost:8080/",
     "height": 394
    },
    "id": "DOGSj5oUxK9M",
    "outputId": "5c2baefa-76f4-4a5b-886d-619cd6f5d3dc"
   },
   "outputs": [
    {
     "name": "stdout",
     "output_type": "stream",
     "text": [
      "TP_SEXO\n"
     ]
    },
    {
     "data": {
      "text/html": [
       "<div>\n",
       "<style scoped>\n",
       "    .dataframe tbody tr th:only-of-type {\n",
       "        vertical-align: middle;\n",
       "    }\n",
       "\n",
       "    .dataframe tbody tr th {\n",
       "        vertical-align: top;\n",
       "    }\n",
       "\n",
       "    .dataframe thead th {\n",
       "        text-align: right;\n",
       "    }\n",
       "</style>\n",
       "<table border=\"1\" class=\"dataframe\">\n",
       "  <thead>\n",
       "    <tr style=\"text-align: right;\">\n",
       "      <th></th>\n",
       "      <th>descricao</th>\n",
       "      <th>frequencia</th>\n",
       "      <th>porcentagem</th>\n",
       "    </tr>\n",
       "  </thead>\n",
       "  <tbody>\n",
       "    <tr>\n",
       "      <th>0</th>\n",
       "      <td>Masculino</td>\n",
       "      <td>1590845</td>\n",
       "      <td>0.404634</td>\n",
       "    </tr>\n",
       "    <tr>\n",
       "      <th>1</th>\n",
       "      <td>Feminino</td>\n",
       "      <td>2340725</td>\n",
       "      <td>0.595366</td>\n",
       "    </tr>\n",
       "  </tbody>\n",
       "</table>\n",
       "</div>"
      ],
      "text/plain": [
       "   descricao  frequencia  porcentagem\n",
       "0  Masculino     1590845     0.404634\n",
       "1  Feminino      2340725     0.595366"
      ]
     },
     "metadata": {
      "tags": []
     },
     "output_type": "display_data"
    },
    {
     "data": {
      "text/plain": [
       "<matplotlib.axes._subplots.AxesSubplot at 0x7fa111a4f470>"
      ]
     },
     "execution_count": 23,
     "metadata": {
      "tags": []
     },
     "output_type": "execute_result"
    },
    {
     "data": {
      "image/png": "[encoded data removed]",
      "text/plain": [
       "<Figure size 576x288 with 1 Axes>"
      ]
     },
     "metadata": {
      "needs_background": "light",
      "tags": []
     },
     "output_type": "display_data"
    }
   ],
   "source": [
    "#df['TP_SEXO'].value_counts(normalize=True).plot.bar(figsize=(10,6), grid=True)\n",
    "cria_tabela('TP_SEXO')\n",
    "df['TP_SEXO'].value_counts(normalize=True).sort_index().plot.bar(figsize=(8,4), grid=True)"
   ]
  },
  {
   "cell_type": "code",
   "execution_count": 24,
   "metadata": {
    "colab": {
     "base_uri": "https://localhost:8080/",
     "height": 486
    },
    "id": "K9MXrOLua_Mx",
    "outputId": "8ccc7ac9-fbba-410b-b444-ede0264d728b"
   },
   "outputs": [
    {
     "name": "stdout",
     "output_type": "stream",
     "text": [
      "TP_ESTADO_CIVIL\n"
     ]
    },
    {
     "data": {
      "text/html": [
       "<div>\n",
       "<style scoped>\n",
       "    .dataframe tbody tr th:only-of-type {\n",
       "        vertical-align: middle;\n",
       "    }\n",
       "\n",
       "    .dataframe tbody tr th {\n",
       "        vertical-align: top;\n",
       "    }\n",
       "\n",
       "    .dataframe thead th {\n",
       "        text-align: right;\n",
       "    }\n",
       "</style>\n",
       "<table border=\"1\" class=\"dataframe\">\n",
       "  <thead>\n",
       "    <tr style=\"text-align: right;\">\n",
       "      <th></th>\n",
       "      <th>descricao</th>\n",
       "      <th>frequencia</th>\n",
       "      <th>porcentagem</th>\n",
       "    </tr>\n",
       "  </thead>\n",
       "  <tbody>\n",
       "    <tr>\n",
       "      <th>0</th>\n",
       "      <td>Não informado</td>\n",
       "      <td>140463</td>\n",
       "      <td>0.035727</td>\n",
       "    </tr>\n",
       "    <tr>\n",
       "      <th>1</th>\n",
       "      <td>Solteiro(a)</td>\n",
       "      <td>3488267</td>\n",
       "      <td>0.887245</td>\n",
       "    </tr>\n",
       "    <tr>\n",
       "      <th>2</th>\n",
       "      <td>Casado(a)/Mora com companheiro(a)</td>\n",
       "      <td>242327</td>\n",
       "      <td>0.061636</td>\n",
       "    </tr>\n",
       "    <tr>\n",
       "      <th>3</th>\n",
       "      <td>Divorciado(a)/Desquitado(a)/Separado(a)</td>\n",
       "      <td>56426</td>\n",
       "      <td>0.014352</td>\n",
       "    </tr>\n",
       "    <tr>\n",
       "      <th>4</th>\n",
       "      <td>Viúvo(a)</td>\n",
       "      <td>4087</td>\n",
       "      <td>0.001040</td>\n",
       "    </tr>\n",
       "  </tbody>\n",
       "</table>\n",
       "</div>"
      ],
      "text/plain": [
       "                                 descricao  frequencia  porcentagem\n",
       "0                            Não informado      140463     0.035727\n",
       "1                              Solteiro(a)     3488267     0.887245\n",
       "2        Casado(a)/Mora com companheiro(a)      242327     0.061636\n",
       "3  Divorciado(a)/Desquitado(a)/Separado(a)       56426     0.014352\n",
       "4                                 Viúvo(a)        4087     0.001040"
      ]
     },
     "metadata": {
      "tags": []
     },
     "output_type": "display_data"
    },
    {
     "data": {
      "text/plain": [
       "<matplotlib.axes._subplots.AxesSubplot at 0x7fa111a3da90>"
      ]
     },
     "execution_count": 24,
     "metadata": {
      "tags": []
     },
     "output_type": "execute_result"
    },
    {
     "data": {
      "image/png": "[encoded data removed]",
      "text/plain": [
       "<Figure size 576x288 with 1 Axes>"
      ]
     },
     "metadata": {
      "needs_background": "light",
      "tags": []
     },
     "output_type": "display_data"
    }
   ],
   "source": [
    "#df['TP_ESTADO_CIVIL'].value_counts(normalize=True)\n",
    "cria_tabela('TP_ESTADO_CIVIL')\n",
    "df['TP_ESTADO_CIVIL'].value_counts(normalize=True).sort_index().plot.bar(figsize=(8,4), grid=True)"
   ]
  },
  {
   "cell_type": "code",
   "execution_count": 25,
   "metadata": {
    "colab": {
     "base_uri": "https://localhost:8080/",
     "height": 517
    },
    "id": "u7D8tDU75Syl",
    "outputId": "9f614125-4440-4ccf-d4ae-86400adb2eef"
   },
   "outputs": [
    {
     "name": "stdout",
     "output_type": "stream",
     "text": [
      "TP_COR_RACA\n"
     ]
    },
    {
     "data": {
      "text/html": [
       "<div>\n",
       "<style scoped>\n",
       "    .dataframe tbody tr th:only-of-type {\n",
       "        vertical-align: middle;\n",
       "    }\n",
       "\n",
       "    .dataframe tbody tr th {\n",
       "        vertical-align: top;\n",
       "    }\n",
       "\n",
       "    .dataframe thead th {\n",
       "        text-align: right;\n",
       "    }\n",
       "</style>\n",
       "<table border=\"1\" class=\"dataframe\">\n",
       "  <thead>\n",
       "    <tr style=\"text-align: right;\">\n",
       "      <th></th>\n",
       "      <th>descricao</th>\n",
       "      <th>frequencia</th>\n",
       "      <th>porcentagem</th>\n",
       "    </tr>\n",
       "  </thead>\n",
       "  <tbody>\n",
       "    <tr>\n",
       "      <th>0</th>\n",
       "      <td>Não declarado</td>\n",
       "      <td>78400</td>\n",
       "      <td>0.019941</td>\n",
       "    </tr>\n",
       "    <tr>\n",
       "      <th>1</th>\n",
       "      <td>Branca</td>\n",
       "      <td>1453618</td>\n",
       "      <td>0.369730</td>\n",
       "    </tr>\n",
       "    <tr>\n",
       "      <th>2</th>\n",
       "      <td>Preta</td>\n",
       "      <td>483856</td>\n",
       "      <td>0.123069</td>\n",
       "    </tr>\n",
       "    <tr>\n",
       "      <th>3</th>\n",
       "      <td>Parda</td>\n",
       "      <td>1802255</td>\n",
       "      <td>0.458406</td>\n",
       "    </tr>\n",
       "    <tr>\n",
       "      <th>4</th>\n",
       "      <td>Amarela</td>\n",
       "      <td>90038</td>\n",
       "      <td>0.022901</td>\n",
       "    </tr>\n",
       "    <tr>\n",
       "      <th>5</th>\n",
       "      <td>Indígena</td>\n",
       "      <td>23403</td>\n",
       "      <td>0.005953</td>\n",
       "    </tr>\n",
       "  </tbody>\n",
       "</table>\n",
       "</div>"
      ],
      "text/plain": [
       "       descricao  frequencia  porcentagem\n",
       "0  Não declarado       78400     0.019941\n",
       "1         Branca     1453618     0.369730\n",
       "2          Preta      483856     0.123069\n",
       "3          Parda     1802255     0.458406\n",
       "4        Amarela       90038     0.022901\n",
       "5      Indígena        23403     0.005953"
      ]
     },
     "metadata": {
      "tags": []
     },
     "output_type": "display_data"
    },
    {
     "data": {
      "text/plain": [
       "<matplotlib.axes._subplots.AxesSubplot at 0x7fa111b0f780>"
      ]
     },
     "execution_count": 25,
     "metadata": {
      "tags": []
     },
     "output_type": "execute_result"
    },
    {
     "data": {
      "image/png": "[encoded data removed]",
      "text/plain": [
       "<Figure size 576x288 with 1 Axes>"
      ]
     },
     "metadata": {
      "needs_background": "light",
      "tags": []
     },
     "output_type": "display_data"
    }
   ],
   "source": [
    "#df['TP_COR_RACA'].value_counts(normalize=True).plot.bar(figsize=(10,6), grid=True)\n",
    "#df['TP_COR_RACA'].value_counts(normalize=True)\n",
    "cria_tabela('TP_COR_RACA')\n",
    "df['TP_COR_RACA'].value_counts(normalize=True).sort_index().plot.bar(figsize=(8,4), grid=True)"
   ]
  },
  {
   "cell_type": "code",
   "execution_count": 26,
   "metadata": {
    "colab": {
     "base_uri": "https://localhost:8080/",
     "height": 392
    },
    "id": "YIUOvKwy5ZOM",
    "outputId": "6fdce6a4-5bb8-43fb-9b39-fb91a3c4b9d0"
   },
   "outputs": [
    {
     "name": "stdout",
     "output_type": "stream",
     "text": [
      "TP_LINGUA\n"
     ]
    },
    {
     "data": {
      "text/html": [
       "<div>\n",
       "<style scoped>\n",
       "    .dataframe tbody tr th:only-of-type {\n",
       "        vertical-align: middle;\n",
       "    }\n",
       "\n",
       "    .dataframe tbody tr th {\n",
       "        vertical-align: top;\n",
       "    }\n",
       "\n",
       "    .dataframe thead th {\n",
       "        text-align: right;\n",
       "    }\n",
       "</style>\n",
       "<table border=\"1\" class=\"dataframe\">\n",
       "  <thead>\n",
       "    <tr style=\"text-align: right;\">\n",
       "      <th></th>\n",
       "      <th>descricao</th>\n",
       "      <th>frequencia</th>\n",
       "      <th>porcentagem</th>\n",
       "    </tr>\n",
       "  </thead>\n",
       "  <tbody>\n",
       "    <tr>\n",
       "      <th>0</th>\n",
       "      <td>Inglês</td>\n",
       "      <td>1939397</td>\n",
       "      <td>0.493288</td>\n",
       "    </tr>\n",
       "    <tr>\n",
       "      <th>1</th>\n",
       "      <td>Espanhol</td>\n",
       "      <td>1992173</td>\n",
       "      <td>0.506712</td>\n",
       "    </tr>\n",
       "  </tbody>\n",
       "</table>\n",
       "</div>"
      ],
      "text/plain": [
       "  descricao  frequencia  porcentagem\n",
       "0    Inglês     1939397     0.493288\n",
       "1  Espanhol     1992173     0.506712"
      ]
     },
     "metadata": {
      "tags": []
     },
     "output_type": "display_data"
    },
    {
     "data": {
      "text/plain": [
       "<matplotlib.axes._subplots.AxesSubplot at 0x7fa111a2dd68>"
      ]
     },
     "execution_count": 26,
     "metadata": {
      "tags": []
     },
     "output_type": "execute_result"
    },
    {
     "data": {
      "image/png": "[encoded data removed]",
      "text/plain": [
       "<Figure size 576x288 with 1 Axes>"
      ]
     },
     "metadata": {
      "needs_background": "light",
      "tags": []
     },
     "output_type": "display_data"
    }
   ],
   "source": [
    "#df['TP_LINGUA'].value_counts(normalize=True).plot.bar(figsize=(10,6), grid=True)\n",
    "cria_tabela('TP_LINGUA')\n",
    "df['TP_LINGUA'].value_counts(normalize=True).sort_index().plot.bar(figsize=(8,4), grid=True)"
   ]
  },
  {
   "cell_type": "code",
   "execution_count": 27,
   "metadata": {
    "colab": {
     "base_uri": "https://localhost:8080/",
     "height": 486
    },
    "id": "hRY9zwMw5Hb_",
    "outputId": "afee8f43-b84e-491c-ef63-eee1c9960de6"
   },
   "outputs": [
    {
     "name": "stdout",
     "output_type": "stream",
     "text": [
      "TP_NACIONALIDADE\n"
     ]
    },
    {
     "data": {
      "text/html": [
       "<div>\n",
       "<style scoped>\n",
       "    .dataframe tbody tr th:only-of-type {\n",
       "        vertical-align: middle;\n",
       "    }\n",
       "\n",
       "    .dataframe tbody tr th {\n",
       "        vertical-align: top;\n",
       "    }\n",
       "\n",
       "    .dataframe thead th {\n",
       "        text-align: right;\n",
       "    }\n",
       "</style>\n",
       "<table border=\"1\" class=\"dataframe\">\n",
       "  <thead>\n",
       "    <tr style=\"text-align: right;\">\n",
       "      <th></th>\n",
       "      <th>descricao</th>\n",
       "      <th>frequencia</th>\n",
       "      <th>porcentagem</th>\n",
       "    </tr>\n",
       "  </thead>\n",
       "  <tbody>\n",
       "    <tr>\n",
       "      <th>0</th>\n",
       "      <td>Não informado</td>\n",
       "      <td>5353</td>\n",
       "      <td>0.001362</td>\n",
       "    </tr>\n",
       "    <tr>\n",
       "      <th>1</th>\n",
       "      <td>Brasileiro(a)</td>\n",
       "      <td>3818053</td>\n",
       "      <td>0.971127</td>\n",
       "    </tr>\n",
       "    <tr>\n",
       "      <th>2</th>\n",
       "      <td>Brasileiro(a) Naturalizado(a)</td>\n",
       "      <td>96799</td>\n",
       "      <td>0.024621</td>\n",
       "    </tr>\n",
       "    <tr>\n",
       "      <th>3</th>\n",
       "      <td>Estrangeiro(a)</td>\n",
       "      <td>4516</td>\n",
       "      <td>0.001149</td>\n",
       "    </tr>\n",
       "    <tr>\n",
       "      <th>4</th>\n",
       "      <td>Brasileiro(a) Nato(a), nascido(a) no exterior</td>\n",
       "      <td>6849</td>\n",
       "      <td>0.001742</td>\n",
       "    </tr>\n",
       "  </tbody>\n",
       "</table>\n",
       "</div>"
      ],
      "text/plain": [
       "                                       descricao  frequencia  porcentagem\n",
       "0                                  Não informado        5353     0.001362\n",
       "1                                  Brasileiro(a)     3818053     0.971127\n",
       "2                  Brasileiro(a) Naturalizado(a)       96799     0.024621\n",
       "3                                 Estrangeiro(a)        4516     0.001149\n",
       "4  Brasileiro(a) Nato(a), nascido(a) no exterior        6849     0.001742"
      ]
     },
     "metadata": {
      "tags": []
     },
     "output_type": "display_data"
    },
    {
     "data": {
      "text/plain": [
       "<matplotlib.axes._subplots.AxesSubplot at 0x7fa11198fe80>"
      ]
     },
     "execution_count": 27,
     "metadata": {
      "tags": []
     },
     "output_type": "execute_result"
    },
    {
     "data": {
      "image/png": "[encoded data removed]",
      "text/plain": [
       "<Figure size 576x288 with 1 Axes>"
      ]
     },
     "metadata": {
      "needs_background": "light",
      "tags": []
     },
     "output_type": "display_data"
    }
   ],
   "source": [
    "#df['TP_NACIONALIDADE'].value_counts(normalize=True).plot.bar(figsize=(10,6), grid=True)\n",
    "cria_tabela('TP_NACIONALIDADE')\n",
    "df['TP_NACIONALIDADE'].value_counts(normalize=True).sort_index().plot.bar(figsize=(8,4), grid=True)"
   ]
  },
  {
   "cell_type": "markdown",
   "metadata": {
    "id": "HPEvw9DNdloP"
   },
   "source": [
    "## Correlação\n",
    "\n"
   ]
  },
  {
   "cell_type": "code",
   "execution_count": 28,
   "metadata": {
    "id": "xUPVRS-4HX3b"
   },
   "outputs": [],
   "source": [
    "def plota_boxplot_provas(variavel, rotate=False):\n",
    "    fig, axs = plt.subplots(1, 5, figsize=(24,5))\n",
    "    for idx, p in enumerate(provas):\n",
    "        ax = sns.boxplot(x=variavel, y=p, data=df, ax=axs[idx])\n",
    "        ax.set_ylim(-50, 1050)\n",
    "        ax.set_ylabel('')\n",
    "        ax.set_xlabel(p)\n",
    "    if rotate:\n",
    "        plt.draw()\n",
    "        for ax in axs:\n",
    "            ax.set_xticklabels(ax.get_xticklabels(), rotation=30, ha='right')\n",
    "    fig.suptitle(variavel)"
   ]
  },
  {
   "cell_type": "code",
   "execution_count": 29,
   "metadata": {
    "colab": {
     "base_uri": "https://localhost:8080/",
     "height": 335
    },
    "id": "AyUEpnBO5mFx",
    "outputId": "ea90e8e7-7132-4525-c1ee-c67d4e038eae"
   },
   "outputs": [
    {
     "data": {
      "image/png": "[encoded data removed]",
      "text/plain": [
       "<Figure size 1728x360 with 5 Axes>"
      ]
     },
     "metadata": {
      "needs_background": "light",
      "tags": []
     },
     "output_type": "display_data"
    }
   ],
   "source": [
    "#sns.boxplot(x='TP_LINGUA',y='NU_NOTA_LC',data=df)\n",
    "plota_boxplot_provas('TP_LINGUA')"
   ]
  },
  {
   "cell_type": "code",
   "execution_count": 30,
   "metadata": {
    "colab": {
     "base_uri": "https://localhost:8080/",
     "height": 353
    },
    "id": "4Cki1Kn2jkz9",
    "outputId": "b301f58f-4d47-4180-9deb-2986ae31e439"
   },
   "outputs": [
    {
     "name": "stdout",
     "output_type": "stream",
     "text": [
      "{'0': 'Não declarado', '1': 'Branca', '2': 'Preta', '3': 'Parda', '4': 'Amarela', '5': 'Indígena '}\n"
     ]
    },
    {
     "data": {
      "image/png": "[encoded data removed]",
      "text/plain": [
       "<Figure size 1728x360 with 5 Axes>"
      ]
     },
     "metadata": {
      "needs_background": "light",
      "tags": []
     },
     "output_type": "display_data"
    }
   ],
   "source": [
    "print(categorias['TP_COR_RACA'])\n",
    "plota_boxplot_provas('TP_COR_RACA')"
   ]
  },
  {
   "cell_type": "code",
   "execution_count": 31,
   "metadata": {
    "colab": {
     "base_uri": "https://localhost:8080/",
     "height": 335
    },
    "id": "A30K9ImZs0yV",
    "outputId": "0079dd83-3794-44c5-9a94-a5ddf1afa625"
   },
   "outputs": [
    {
     "data": {
      "image/png": "[encoded data removed]",
      "text/plain": [
       "<Figure size 1728x360 with 5 Axes>"
      ]
     },
     "metadata": {
      "needs_background": "light",
      "tags": []
     },
     "output_type": "display_data"
    }
   ],
   "source": [
    "plota_boxplot_provas('TP_SEXO')"
   ]
  },
  {
   "cell_type": "code",
   "execution_count": 32,
   "metadata": {
    "colab": {
     "base_uri": "https://localhost:8080/",
     "height": 422
    },
    "id": "CY-fuCSQtj4t",
    "outputId": "49cba091-73a9-450d-8805-3da8c3712bea"
   },
   "outputs": [
    {
     "data": {
      "text/plain": [
       "{'0': 'Não informado',\n",
       " '1': 'Solteiro(a)',\n",
       " '2': 'Casado(a)/Mora com companheiro(a)',\n",
       " '3': 'Divorciado(a)/Desquitado(a)/Separado(a)',\n",
       " '4': 'Viúvo(a)'}"
      ]
     },
     "metadata": {
      "tags": []
     },
     "output_type": "display_data"
    },
    {
     "data": {
      "image/png": "[encoded data removed]",
      "text/plain": [
       "<Figure size 1728x360 with 5 Axes>"
      ]
     },
     "metadata": {
      "needs_background": "light",
      "tags": []
     },
     "output_type": "display_data"
    }
   ],
   "source": [
    "display(categorias['TP_ESTADO_CIVIL'])\n",
    "plota_boxplot_provas('TP_ESTADO_CIVIL')"
   ]
  },
  {
   "cell_type": "code",
   "execution_count": 33,
   "metadata": {
    "colab": {
     "base_uri": "https://localhost:8080/"
    },
    "id": "MfdF7eCOI4cp",
    "outputId": "c5202633-89c9-4850-cb9a-784ca9b2dbc2"
   },
   "outputs": [
    {
     "data": {
      "text/plain": [
       "CategoricalDtype(categories=['0-15', '16-18', '19-21', '22-24', '25-28', '29-34', '35-39',\n",
       "                  '40-49', '50-59', '60-69', '70-79', '80-89'],\n",
       "                 ordered=True)"
      ]
     },
     "execution_count": 33,
     "metadata": {
      "tags": []
     },
     "output_type": "execute_result"
    }
   ],
   "source": [
    "df['faixa_idades'].dtype"
   ]
  },
  {
   "cell_type": "code",
   "execution_count": 34,
   "metadata": {
    "colab": {
     "base_uri": "https://localhost:8080/",
     "height": 347
    },
    "id": "yEEgl2XSIdvm",
    "outputId": "9497b684-ac9d-4b01-928d-40268e837450"
   },
   "outputs": [
    {
     "data": {
      "image/png": "[encoded data removed]",
      "text/plain": [
       "<Figure size 1728x360 with 5 Axes>"
      ]
     },
     "metadata": {
      "needs_background": "light",
      "tags": []
     },
     "output_type": "display_data"
    }
   ],
   "source": [
    "plota_boxplot_provas('faixa_idades', rotate=True)"
   ]
  },
  {
   "cell_type": "code",
   "execution_count": 35,
   "metadata": {
    "colab": {
     "base_uri": "https://localhost:8080/",
     "height": 368
    },
    "id": "aBTFrh-0vCq1",
    "outputId": "b0895f4d-bfc2-4668-d561-91017f102d15"
   },
   "outputs": [
    {
     "data": {
      "image/png": "[encoded data removed]",
      "text/plain": [
       "<Figure size 1728x360 with 5 Axes>"
      ]
     },
     "metadata": {
      "needs_background": "light",
      "tags": []
     },
     "output_type": "display_data"
    }
   ],
   "source": [
    "plota_boxplot_provas('Regiao_moradia', rotate=True)"
   ]
  },
  {
   "cell_type": "code",
   "execution_count": 36,
   "metadata": {
    "colab": {
     "base_uri": "https://localhost:8080/",
     "height": 335
    },
    "id": "zpE_Ogk2vnoM",
    "outputId": "13cf1282-0654-4ccb-f1fc-3048dc2af973"
   },
   "outputs": [
    {
     "data": {
      "image/png": "[encoded data removed]",
      "text/plain": [
       "<Figure size 1728x360 with 5 Axes>"
      ]
     },
     "metadata": {
      "needs_background": "light",
      "tags": []
     },
     "output_type": "display_data"
    }
   ],
   "source": [
    "plota_boxplot_provas('Tipo_cidade')"
   ]
  },
  {
   "cell_type": "code",
   "execution_count": 37,
   "metadata": {
    "colab": {
     "base_uri": "https://localhost:8080/",
     "height": 206
    },
    "id": "zi4ZKgRVP0Hx",
    "outputId": "6ac53413-c022-42ed-e9d9-ed3b5085fb31"
   },
   "outputs": [
    {
     "data": {
      "text/html": [
       "<div>\n",
       "<style scoped>\n",
       "    .dataframe tbody tr th:only-of-type {\n",
       "        vertical-align: middle;\n",
       "    }\n",
       "\n",
       "    .dataframe tbody tr th {\n",
       "        vertical-align: top;\n",
       "    }\n",
       "\n",
       "    .dataframe thead th {\n",
       "        text-align: right;\n",
       "    }\n",
       "</style>\n",
       "<table border=\"1\" class=\"dataframe\">\n",
       "  <thead>\n",
       "    <tr style=\"text-align: right;\">\n",
       "      <th></th>\n",
       "      <th>media</th>\n",
       "      <th>mediana</th>\n",
       "      <th>minimo</th>\n",
       "      <th>maximo</th>\n",
       "    </tr>\n",
       "  </thead>\n",
       "  <tbody>\n",
       "    <tr>\n",
       "      <th>NU_NOTA_CN</th>\n",
       "      <td>477.129486</td>\n",
       "      <td>470.299988</td>\n",
       "      <td>0.0</td>\n",
       "      <td>860.900024</td>\n",
       "    </tr>\n",
       "    <tr>\n",
       "      <th>NU_NOTA_CH</th>\n",
       "      <td>507.144409</td>\n",
       "      <td>510.600006</td>\n",
       "      <td>0.0</td>\n",
       "      <td>835.099976</td>\n",
       "    </tr>\n",
       "    <tr>\n",
       "      <th>NU_NOTA_LC</th>\n",
       "      <td>520.025940</td>\n",
       "      <td>526.200012</td>\n",
       "      <td>0.0</td>\n",
       "      <td>801.700012</td>\n",
       "    </tr>\n",
       "    <tr>\n",
       "      <th>NU_NOTA_MT</th>\n",
       "      <td>522.217407</td>\n",
       "      <td>501.100006</td>\n",
       "      <td>0.0</td>\n",
       "      <td>985.500000</td>\n",
       "    </tr>\n",
       "    <tr>\n",
       "      <th>NU_NOTA_REDACAO</th>\n",
       "      <td>571.218384</td>\n",
       "      <td>580.000000</td>\n",
       "      <td>0.0</td>\n",
       "      <td>1000.000000</td>\n",
       "    </tr>\n",
       "  </tbody>\n",
       "</table>\n",
       "</div>"
      ],
      "text/plain": [
       "                      media     mediana  minimo       maximo\n",
       "NU_NOTA_CN       477.129486  470.299988     0.0   860.900024\n",
       "NU_NOTA_CH       507.144409  510.600006     0.0   835.099976\n",
       "NU_NOTA_LC       520.025940  526.200012     0.0   801.700012\n",
       "NU_NOTA_MT       522.217407  501.100006     0.0   985.500000\n",
       "NU_NOTA_REDACAO  571.218384  580.000000     0.0  1000.000000"
      ]
     },
     "execution_count": 37,
     "metadata": {
      "tags": []
     },
     "output_type": "execute_result"
    }
   ],
   "source": [
    "pd.DataFrame({\n",
    "    'media': df[provas].mean(),\n",
    "    'mediana': df[provas].median(),\n",
    "    'minimo': df[provas].min(),\n",
    "    'maximo': df[provas].max()\n",
    "})\n"
   ]
  },
  {
   "cell_type": "markdown",
   "metadata": {
    "id": "qBGWsdxRwAux"
   },
   "source": [
    "## Conclusões\n",
    "\n",
    "**Distribuições e características**\n",
    "\n",
    "- As regiões com maior número de participantes são os estados de Sudeste e Nordeste.\n",
    "- Basicamente 80% das pessoas que realizam o ENEM moram no interior\n",
    "- Quase 70% dos participantes moram no mesmo local onde nasceram.\n",
    "- Menos de 20% das pessoas fizeram prova em um município diferente do que moram.\n",
    "- Mais de 50% de quem faz a prova tem entre 16 e 18 anos, mais de 80% tem menos de 28.\n",
    "- Aproximadamente 60% dos participantes é do sexo feminino.\n",
    "- Cerca de 90% dos participantes são solteiros.\n",
    "- Quase metade dos participantes se declara pardo, depois 37% se declara branco, e 12% preto. A porcentagem de quem não se declarou é baixa.\n",
    "- A quantidade que escolhe inglês e espanhol é quase igual.\n",
    "- O número de não brasileiros fazendo a prova é quase desprezível.\n",
    " \n",
    "**Correlação.**\n",
    "\n",
    "- Alunos que escolheram inglês tiveram uma nota levemente superior.\n",
    "- Brancos obtiveram notas mais altas, sobretudo em matemática. \n",
    "- Os homens tiram notas maiores em matemática enquanto as mulheres se sobressaem levemente na redação.\n",
    "- Aparentemente pessoas que tem/tiveram um companheiro tiveram um desempenho levemente pior.\n",
    "- Conforme a idade aumenta as notas são menores, sobretudo em matemática e redacao.\n",
    "- A regiao sudeste apresenta as melhores notas, mas essa diferença é mais significativa na nota de matemática.\n",
    "- Capital e interior não mostraram diferenças significativas de notas."
   ]
  }
 ],
 "metadata": {
  "colab": {
   "collapsed_sections": [],
   "name": "Cópia de Copy of Carlos.ipynb",
   "provenance": []
  },
  "kernelspec": {
   "display_name": "Python 3",
   "language": "python",
   "name": "python3"
  },
  "language_info": {
   "codemirror_mode": {
    "name": "ipython",
    "version": 3
   },
   "file_extension": ".py",
   "mimetype": "text/x-python",
   "name": "python",
   "nbconvert_exporter": "python",
   "pygments_lexer": "ipython3",
   "version": "3.6.9"
  }
 },
 "nbformat": 4,
 "nbformat_minor": 1
}
