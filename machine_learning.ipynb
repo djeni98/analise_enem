{
 "cells": [
  {
   "cell_type": "code",
   "execution_count": 1,
   "metadata": {
    "id": "rqg1qPbO27zR"
   },
   "outputs": [],
   "source": [
    "import numpy as np\n",
    "import pandas as pd\n",
    "import seaborn as sns\n",
    "import matplotlib.pyplot as plt"
   ]
  },
  {
   "cell_type": "code",
   "execution_count": 2,
   "metadata": {
    "colab": {
     "base_uri": "https://localhost:8080/"
    },
    "id": "VdhaVSwZ8IQK",
    "outputId": "99c340a7-b98c-4ef6-ab7e-fdba39cee2a4"
   },
   "outputs": [
    {
     "name": "stdout",
     "output_type": "stream",
     "text": [
      "Mounted at /content/drive\n"
     ]
    }
   ],
   "source": [
    "try:\n",
    "    from google.colab import drive\n",
    "    my_path = 'drive/My Drive/techlabs/'\n",
    "    drive.mount('/content/drive')\n",
    "except:\n",
    "    my_path = 'dados/'"
   ]
  },
  {
   "cell_type": "code",
   "execution_count": 3,
   "metadata": {
    "id": "MSDqYO6w70Zi"
   },
   "outputs": [],
   "source": [
    "df = pd.read_pickle(my_path + 'final-3.6.pkl.xz')\n",
    "df = df.reset_index(drop=True)"
   ]
  },
  {
   "cell_type": "code",
   "execution_count": 4,
   "metadata": {
    "id": "_pG2WgyqFYle"
   },
   "outputs": [],
   "source": [
    "provas = ['NU_NOTA_CN', 'NU_NOTA_CH', 'NU_NOTA_LC', 'NU_NOTA_MT', 'NU_NOTA_REDACAO']\n",
    "colunas = [ col for col in df.columns if col not in provas ]\n",
    "colunas.remove('TP_STATUS_REDACAO')"
   ]
  },
  {
   "cell_type": "code",
   "execution_count": 5,
   "metadata": {
    "id": "mLXlrqGpdzF2"
   },
   "outputs": [],
   "source": [
    "import json\n",
    "\n",
    "with open(my_path + 'categorias.json', 'r') as f:\n",
    "    c = json.load(f)\n",
    "    categorias = {\n",
    "        **c['participante'], **c['escola'], **c['especializado'], **c['especifico'],\n",
    "        **c['recurso'], **c['local_prova'], **c['prova'], **c['redacao'], **c['socioeconomico']\n",
    "    }"
   ]
  },
  {
   "cell_type": "code",
   "execution_count": 6,
   "metadata": {
    "id": "TTCqLSmASYjG"
   },
   "outputs": [],
   "source": [
    "df_categoria = df[provas + colunas].copy()\n",
    "for c in colunas:\n",
    "    try:\n",
    "        df_categoria[c] = df[c].cat.codes\n",
    "    except:\n",
    "        pass"
   ]
  },
  {
   "cell_type": "code",
   "execution_count": 7,
   "metadata": {
    "colab": {
     "base_uri": "https://localhost:8080/",
     "height": 226
    },
    "id": "YG4-Rdpdcna-",
    "outputId": "f4ccaf8c-6af4-430e-f066-91b1920f1cb1"
   },
   "outputs": [
    {
     "data": {
      "text/html": [
       "<div>\n",
       "<style scoped>\n",
       "    .dataframe tbody tr th:only-of-type {\n",
       "        vertical-align: middle;\n",
       "    }\n",
       "\n",
       "    .dataframe tbody tr th {\n",
       "        vertical-align: top;\n",
       "    }\n",
       "\n",
       "    .dataframe thead th {\n",
       "        text-align: right;\n",
       "    }\n",
       "</style>\n",
       "<table border=\"1\" class=\"dataframe\">\n",
       "  <thead>\n",
       "    <tr style=\"text-align: right;\">\n",
       "      <th></th>\n",
       "      <th>NU_NOTA_CN</th>\n",
       "      <th>NU_NOTA_CH</th>\n",
       "      <th>NU_NOTA_LC</th>\n",
       "      <th>NU_NOTA_MT</th>\n",
       "      <th>NU_NOTA_REDACAO</th>\n",
       "      <th>NU_IDADE</th>\n",
       "      <th>TP_SEXO</th>\n",
       "      <th>TP_ESTADO_CIVIL</th>\n",
       "      <th>TP_COR_RACA</th>\n",
       "      <th>TP_NACIONALIDADE</th>\n",
       "      <th>TP_ST_CONCLUSAO</th>\n",
       "      <th>TP_ANO_CONCLUIU</th>\n",
       "      <th>TP_ESCOLA</th>\n",
       "      <th>TP_ENSINO</th>\n",
       "      <th>IN_TREINEIRO</th>\n",
       "      <th>TP_LINGUA</th>\n",
       "      <th>Q001</th>\n",
       "      <th>Q002</th>\n",
       "      <th>Q003</th>\n",
       "      <th>Q004</th>\n",
       "      <th>Q005</th>\n",
       "      <th>Q006</th>\n",
       "      <th>Q007</th>\n",
       "      <th>Q008</th>\n",
       "      <th>Q009</th>\n",
       "      <th>Q010</th>\n",
       "      <th>Q011</th>\n",
       "      <th>Q012</th>\n",
       "      <th>Q022</th>\n",
       "      <th>Q023</th>\n",
       "      <th>Q024</th>\n",
       "      <th>Q025</th>\n",
       "      <th>IN_ESPECIALIZADO</th>\n",
       "      <th>IN_ESPECIFICO</th>\n",
       "      <th>IN_RECURSO</th>\n",
       "    </tr>\n",
       "  </thead>\n",
       "  <tbody>\n",
       "    <tr>\n",
       "      <th>NU_NOTA_CN</th>\n",
       "      <td>1.000000</td>\n",
       "      <td>0.669247</td>\n",
       "      <td>0.642877</td>\n",
       "      <td>0.648031</td>\n",
       "      <td>0.505337</td>\n",
       "      <td>-0.056845</td>\n",
       "      <td>-0.124755</td>\n",
       "      <td>-0.033126</td>\n",
       "      <td>-0.190884</td>\n",
       "      <td>-0.035119</td>\n",
       "      <td>0.002829</td>\n",
       "      <td>0.018426</td>\n",
       "      <td>0.051999</td>\n",
       "      <td>-0.101907</td>\n",
       "      <td>-0.028886</td>\n",
       "      <td>-0.256514</td>\n",
       "      <td>0.219245</td>\n",
       "      <td>0.264942</td>\n",
       "      <td>0.215366</td>\n",
       "      <td>0.241951</td>\n",
       "      <td>-0.096532</td>\n",
       "      <td>0.430519</td>\n",
       "      <td>0.174082</td>\n",
       "      <td>0.329698</td>\n",
       "      <td>0.196888</td>\n",
       "      <td>0.312548</td>\n",
       "      <td>-0.035608</td>\n",
       "      <td>0.122688</td>\n",
       "      <td>0.236687</td>\n",
       "      <td>0.223241</td>\n",
       "      <td>0.378234</td>\n",
       "      <td>0.220502</td>\n",
       "      <td>0.006405</td>\n",
       "      <td>-0.006035</td>\n",
       "      <td>0.009754</td>\n",
       "    </tr>\n",
       "    <tr>\n",
       "      <th>NU_NOTA_CH</th>\n",
       "      <td>0.669247</td>\n",
       "      <td>1.000000</td>\n",
       "      <td>0.745167</td>\n",
       "      <td>0.610630</td>\n",
       "      <td>0.530075</td>\n",
       "      <td>-0.032498</td>\n",
       "      <td>-0.078844</td>\n",
       "      <td>-0.022710</td>\n",
       "      <td>-0.184918</td>\n",
       "      <td>-0.040501</td>\n",
       "      <td>-0.010381</td>\n",
       "      <td>0.047753</td>\n",
       "      <td>0.040913</td>\n",
       "      <td>-0.075766</td>\n",
       "      <td>-0.015729</td>\n",
       "      <td>-0.248580</td>\n",
       "      <td>0.200110</td>\n",
       "      <td>0.236123</td>\n",
       "      <td>0.202116</td>\n",
       "      <td>0.219573</td>\n",
       "      <td>-0.100599</td>\n",
       "      <td>0.393667</td>\n",
       "      <td>0.146438</td>\n",
       "      <td>0.290862</td>\n",
       "      <td>0.172750</td>\n",
       "      <td>0.275362</td>\n",
       "      <td>-0.048449</td>\n",
       "      <td>0.108905</td>\n",
       "      <td>0.226607</td>\n",
       "      <td>0.213701</td>\n",
       "      <td>0.354972</td>\n",
       "      <td>0.218823</td>\n",
       "      <td>0.000863</td>\n",
       "      <td>-0.005563</td>\n",
       "      <td>0.005561</td>\n",
       "    </tr>\n",
       "    <tr>\n",
       "      <th>NU_NOTA_LC</th>\n",
       "      <td>0.642877</td>\n",
       "      <td>0.745167</td>\n",
       "      <td>1.000000</td>\n",
       "      <td>0.589680</td>\n",
       "      <td>0.538595</td>\n",
       "      <td>-0.085970</td>\n",
       "      <td>-0.014272</td>\n",
       "      <td>-0.039353</td>\n",
       "      <td>-0.191544</td>\n",
       "      <td>-0.039693</td>\n",
       "      <td>-0.003908</td>\n",
       "      <td>0.018683</td>\n",
       "      <td>0.034232</td>\n",
       "      <td>-0.070637</td>\n",
       "      <td>-0.025911</td>\n",
       "      <td>-0.265564</td>\n",
       "      <td>0.217016</td>\n",
       "      <td>0.254847</td>\n",
       "      <td>0.220196</td>\n",
       "      <td>0.230215</td>\n",
       "      <td>-0.106688</td>\n",
       "      <td>0.389440</td>\n",
       "      <td>0.137567</td>\n",
       "      <td>0.288358</td>\n",
       "      <td>0.169631</td>\n",
       "      <td>0.277699</td>\n",
       "      <td>-0.055372</td>\n",
       "      <td>0.111154</td>\n",
       "      <td>0.248836</td>\n",
       "      <td>0.220519</td>\n",
       "      <td>0.352997</td>\n",
       "      <td>0.241907</td>\n",
       "      <td>-0.015679</td>\n",
       "      <td>-0.004510</td>\n",
       "      <td>-0.008349</td>\n",
       "    </tr>\n",
       "    <tr>\n",
       "      <th>NU_NOTA_MT</th>\n",
       "      <td>0.648031</td>\n",
       "      <td>0.610630</td>\n",
       "      <td>0.589680</td>\n",
       "      <td>1.000000</td>\n",
       "      <td>0.495625</td>\n",
       "      <td>-0.139390</td>\n",
       "      <td>-0.188220</td>\n",
       "      <td>-0.056428</td>\n",
       "      <td>-0.196824</td>\n",
       "      <td>-0.032020</td>\n",
       "      <td>0.053683</td>\n",
       "      <td>-0.051538</td>\n",
       "      <td>0.087851</td>\n",
       "      <td>-0.092934</td>\n",
       "      <td>-0.055879</td>\n",
       "      <td>-0.268104</td>\n",
       "      <td>0.235678</td>\n",
       "      <td>0.293339</td>\n",
       "      <td>0.225162</td>\n",
       "      <td>0.255613</td>\n",
       "      <td>-0.076601</td>\n",
       "      <td>0.463578</td>\n",
       "      <td>0.200742</td>\n",
       "      <td>0.356287</td>\n",
       "      <td>0.222478</td>\n",
       "      <td>0.341254</td>\n",
       "      <td>-0.018214</td>\n",
       "      <td>0.133932</td>\n",
       "      <td>0.258537</td>\n",
       "      <td>0.226816</td>\n",
       "      <td>0.389998</td>\n",
       "      <td>0.230018</td>\n",
       "      <td>0.001739</td>\n",
       "      <td>-0.008126</td>\n",
       "      <td>0.005100</td>\n",
       "    </tr>\n",
       "    <tr>\n",
       "      <th>NU_NOTA_REDACAO</th>\n",
       "      <td>0.505337</td>\n",
       "      <td>0.530075</td>\n",
       "      <td>0.538595</td>\n",
       "      <td>0.495625</td>\n",
       "      <td>1.000000</td>\n",
       "      <td>-0.167270</td>\n",
       "      <td>0.038385</td>\n",
       "      <td>-0.065809</td>\n",
       "      <td>-0.124368</td>\n",
       "      <td>-0.026433</td>\n",
       "      <td>-0.000798</td>\n",
       "      <td>-0.066168</td>\n",
       "      <td>0.082024</td>\n",
       "      <td>0.007637</td>\n",
       "      <td>0.001331</td>\n",
       "      <td>-0.175340</td>\n",
       "      <td>0.169294</td>\n",
       "      <td>0.222202</td>\n",
       "      <td>0.155199</td>\n",
       "      <td>0.178947</td>\n",
       "      <td>-0.052598</td>\n",
       "      <td>0.315349</td>\n",
       "      <td>0.131457</td>\n",
       "      <td>0.247698</td>\n",
       "      <td>0.160086</td>\n",
       "      <td>0.220144</td>\n",
       "      <td>-0.026887</td>\n",
       "      <td>0.085100</td>\n",
       "      <td>0.197404</td>\n",
       "      <td>0.152757</td>\n",
       "      <td>0.268689</td>\n",
       "      <td>0.178082</td>\n",
       "      <td>-0.007560</td>\n",
       "      <td>-0.007966</td>\n",
       "      <td>-0.001631</td>\n",
       "    </tr>\n",
       "  </tbody>\n",
       "</table>\n",
       "</div>"
      ],
      "text/plain": [
       "                 NU_NOTA_CN  NU_NOTA_CH  ...  IN_ESPECIFICO  IN_RECURSO\n",
       "NU_NOTA_CN         1.000000    0.669247  ...      -0.006035    0.009754\n",
       "NU_NOTA_CH         0.669247    1.000000  ...      -0.005563    0.005561\n",
       "NU_NOTA_LC         0.642877    0.745167  ...      -0.004510   -0.008349\n",
       "NU_NOTA_MT         0.648031    0.610630  ...      -0.008126    0.005100\n",
       "NU_NOTA_REDACAO    0.505337    0.530075  ...      -0.007966   -0.001631\n",
       "\n",
       "[5 rows x 35 columns]"
      ]
     },
     "execution_count": 7,
     "metadata": {
      "tags": []
     },
     "output_type": "execute_result"
    }
   ],
   "source": [
    "df_categoria.corr().loc[provas, :]"
   ]
  },
  {
   "cell_type": "code",
   "execution_count": 8,
   "metadata": {
    "colab": {
     "base_uri": "https://localhost:8080/",
     "height": 500
    },
    "id": "pQ3QoxwNV-Hc",
    "outputId": "f6823d5a-f3f2-4452-b7df-a2394902be64"
   },
   "outputs": [
    {
     "data": {
      "text/plain": [
       "<matplotlib.axes._subplots.AxesSubplot at 0x7f4f69372cc0>"
      ]
     },
     "execution_count": 8,
     "metadata": {
      "tags": []
     },
     "output_type": "execute_result"
    },
    {
     "data": {
      "image/png": "[encoded data removed]",
      "text/plain": [
       "<Figure size 2160x576 with 2 Axes>"
      ]
     },
     "metadata": {
      "needs_background": "light",
      "tags": []
     },
     "output_type": "display_data"
    }
   ],
   "source": [
    "plt.figure(figsize=(30,8))\n",
    "corr = df_categoria.corr().loc[provas, :].abs()\n",
    "sns.heatmap(corr, annot=corr, vmax=1)"
   ]
  },
  {
   "cell_type": "code",
   "execution_count": 9,
   "metadata": {
    "colab": {
     "base_uri": "https://localhost:8080/",
     "height": 432
    },
    "id": "eVWue1MbM6zS",
    "outputId": "889a5702-2809-491a-c0e6-5c5a5d065388"
   },
   "outputs": [
    {
     "data": {
      "text/plain": [
       "<matplotlib.axes._subplots.AxesSubplot at 0x7f4f664180f0>"
      ]
     },
     "execution_count": 9,
     "metadata": {
      "tags": []
     },
     "output_type": "execute_result"
    },
    {
     "data": {
      "image/png": "[encoded data removed]",
      "text/plain": [
       "<Figure size 1080x360 with 1 Axes>"
      ]
     },
     "metadata": {
      "needs_background": "light",
      "tags": []
     },
     "output_type": "display_data"
    }
   ],
   "source": [
    "plt.figure(figsize=(15,5))\n",
    "corr.mean().plot.bar(ylim=(0,1.0), grid=True)"
   ]
  },
  {
   "cell_type": "markdown",
   "metadata": {
    "id": "toswuS7kZMuG"
   },
   "source": [
    "# Machine Learning"
   ]
  },
  {
   "cell_type": "code",
   "execution_count": 10,
   "metadata": {
    "id": "9JBduqQMzjh9"
   },
   "outputs": [],
   "source": [
    "from sklearn.model_selection import train_test_split\n",
    "from sklearn.metrics import explained_variance_score, mean_squared_log_error, max_error, mean_absolute_error"
   ]
  },
  {
   "cell_type": "code",
   "execution_count": 11,
   "metadata": {
    "id": "FFeHqfX0YSyM"
   },
   "outputs": [],
   "source": [
    "def regressorOneColumnY(X, y, regressorClass, **regr_kwargs):\n",
    "    X_train, X_test, y_train, y_test = train_test_split(\n",
    "        X, y, test_size=0.25, random_state=1245\n",
    "    )\n",
    "\n",
    "    regr = regressorClass(**regr_kwargs)\n",
    "    regr.fit(X_train, y_train)\n",
    "\n",
    "    y_predict = regr.predict(X_test)\n",
    "\n",
    "    result = (y.name, explained_variance_score(y_test, y_predict), mean_absolute_error(y_test, y_predict), max_error(y_test, y_predict))\n",
    "    print('{:>15} {:.5f} {:.5f} {:.5f}'.format(*result))\n",
    "    return result"
   ]
  },
  {
   "cell_type": "code",
   "execution_count": 12,
   "metadata": {
    "id": "H1Hl0Mn82ROe"
   },
   "outputs": [],
   "source": [
    "def prova_por_prova(df_limpa, regressorClass, **regr_kwargs):\n",
    "    results = []\n",
    "    for p in provas:\n",
    "        X = pd.get_dummies(df_limpa.loc[:, df_limpa.columns != p])\n",
    "        y = df_limpa[p]\n",
    "        results.append(regressorOneColumnY(X, y, regressorClass, **regr_kwargs))\n",
    "    return results"
   ]
  },
  {
   "cell_type": "code",
   "execution_count": 13,
   "metadata": {
    "id": "0Sbw4vlr7gge"
   },
   "outputs": [],
   "source": [
    "def ml_por_valor_minimo(valor, regressorClass, **regr_kwargs):\n",
    "    minimo = valor\n",
    "    colunas = [ c for c in corr.columns[corr.mean() > minimo] ]\n",
    "    df_ml = df[colunas].loc[df[colunas].notnull().all(axis=1), :]\n",
    "\n",
    "    print(minimo, df_ml.columns)\n",
    "    print('Parâmetros: \"explained_variance_score\"  \"mean_absolute_error\"  \"max_error\"\\n')\n",
    "    return prova_por_prova(df_ml, regressorClass, **regr_kwargs)"
   ]
  },
  {
   "cell_type": "code",
   "execution_count": 14,
   "metadata": {
    "id": "vM6lZAL4oJ_H"
   },
   "outputs": [],
   "source": [
    "def ml_todos_exceto_provas(regressorClass, **regr_kwargs):\n",
    "    df_ml = df[corr.columns].loc[\n",
    "        df[corr.columns].notnull().all(axis=1), corr.columns\n",
    "    ]\n",
    "\n",
    "    results = []\n",
    "    print('colunas: ')\n",
    "    print(\"['NU_IDADE', 'TP_SEXO', 'TP_ESTADO_CIVIL', 'TP_COR_RACA', 'TP_NACIONALIDADE', \")\n",
    "    print(\"    'TP_ST_CONCLUSAO', 'TP_ANO_CONCLUIU', 'TP_ESCOLA', 'TP_ENSINO', 'IN_TREINEIRO', \")\n",
    "    print(\"    'TP_LINGUA', 'Q001', 'Q002', 'Q003', 'Q004', 'Q005', 'Q006', 'Q007', 'Q008', 'Q009', \")\n",
    "    print(\"    'Q010', 'Q011', 'Q012', 'Q022', 'Q023', 'Q024', 'Q025', 'IN_ESPECIALIZADO', 'IN_ESPECIFICO', 'IN_RECURSO']\")\n",
    "    print('Parâmetros: \"explained_variance_score\"  \"mean_absolute_error\"  \"max_error\"\\n')\n",
    "    for p in provas:\n",
    "        X = pd.get_dummies(df_ml.loc[:, [ c for c in df_ml.columns if c not in provas ]])\n",
    "        y = df_ml[p]\n",
    "        results.append(regressorOneColumnY(X, y, regressorClass, **regr_kwargs))\n",
    "    return results"
   ]
  },
  {
   "cell_type": "code",
   "execution_count": 15,
   "metadata": {
    "id": "a7mouccb_3Az"
   },
   "outputs": [],
   "source": [
    "resultados = {}"
   ]
  },
  {
   "cell_type": "markdown",
   "metadata": {
    "id": "7C2vW4OFXxAH"
   },
   "source": [
    "## Dummy Regressor"
   ]
  },
  {
   "cell_type": "code",
   "execution_count": 16,
   "metadata": {
    "id": "Cg9iaWgAX0Qj"
   },
   "outputs": [],
   "source": [
    "from sklearn.dummy import DummyRegressor\n",
    "\n",
    "def run_dummy_regressor(valor):\n",
    "    return ml_por_valor_minimo(valor, DummyRegressor, strategy=\"mean\")"
   ]
  },
  {
   "cell_type": "code",
   "execution_count": 17,
   "metadata": {
    "colab": {
     "base_uri": "https://localhost:8080/"
    },
    "id": "s0c5MBSqo6Oc",
    "outputId": "b86232fc-8eb5-4449-f612-5f945de39096"
   },
   "outputs": [
    {
     "name": "stdout",
     "output_type": "stream",
     "text": [
      "colunas: \n",
      "['NU_IDADE', 'TP_SEXO', 'TP_ESTADO_CIVIL', 'TP_COR_RACA', 'TP_NACIONALIDADE', \n",
      "    'TP_ST_CONCLUSAO', 'TP_ANO_CONCLUIU', 'TP_ESCOLA', 'TP_ENSINO', 'IN_TREINEIRO', \n",
      "    'TP_LINGUA', 'Q001', 'Q002', 'Q003', 'Q004', 'Q005', 'Q006', 'Q007', 'Q008', 'Q009', \n",
      "    'Q010', 'Q011', 'Q012', 'Q022', 'Q023', 'Q024', 'Q025', 'IN_ESPECIALIZADO', 'IN_ESPECIFICO', 'IN_RECURSO']\n",
      "Parâmetros: \"explained_variance_score\"  \"mean_absolute_error\"  \"max_error\"\n",
      "\n",
      "     NU_NOTA_CN 0.00000 59.82418 471.19086\n",
      "     NU_NOTA_CH 0.00000 63.71052 504.17136\n",
      "     NU_NOTA_LC 0.00000 47.87051 518.28949\n",
      "     NU_NOTA_MT 0.00000 84.62434 514.47870\n",
      "NU_NOTA_REDACAO 0.00000 129.14784 580.72290\n"
     ]
    }
   ],
   "source": [
    "exceto_provas = ml_todos_exceto_provas(DummyRegressor, strategy=\"mean\")"
   ]
  },
  {
   "cell_type": "code",
   "execution_count": 18,
   "metadata": {
    "colab": {
     "base_uri": "https://localhost:8080/"
    },
    "id": "Cf0hLQhJcBOF",
    "outputId": "6a9ace37-04ff-4efa-ab13-5a3b93155ece"
   },
   "outputs": [
    {
     "name": "stdout",
     "output_type": "stream",
     "text": [
      "0.3 Index(['NU_NOTA_CN', 'NU_NOTA_CH', 'NU_NOTA_LC', 'NU_NOTA_MT',\n",
      "       'NU_NOTA_REDACAO', 'Q006', 'Q008', 'Q024'],\n",
      "      dtype='object')\n",
      "Parâmetros: \"explained_variance_score\"  \"mean_absolute_error\"  \"max_error\"\n",
      "\n",
      "     NU_NOTA_CN 0.00000 63.07232 477.89218\n",
      "     NU_NOTA_CH 0.00000 66.12944 509.89328\n",
      "     NU_NOTA_LC 0.00000 49.32933 522.40771\n",
      "     NU_NOTA_MT 0.00000 90.10294 523.24615\n",
      "NU_NOTA_REDACAO 0.00000 132.55246 579.83209\n"
     ]
    }
   ],
   "source": [
    "a = run_dummy_regressor(0.3)"
   ]
  },
  {
   "cell_type": "code",
   "execution_count": 19,
   "metadata": {
    "colab": {
     "base_uri": "https://localhost:8080/"
    },
    "id": "nZ-Y1BEzcYme",
    "outputId": "164153be-ef3b-4ba2-adf2-ddb35d596daf"
   },
   "outputs": [
    {
     "name": "stdout",
     "output_type": "stream",
     "text": [
      "0.35 Index(['NU_NOTA_CN', 'NU_NOTA_CH', 'NU_NOTA_LC', 'NU_NOTA_MT',\n",
      "       'NU_NOTA_REDACAO', 'Q006'],\n",
      "      dtype='object')\n",
      "Parâmetros: \"explained_variance_score\"  \"mean_absolute_error\"  \"max_error\"\n",
      "\n",
      "     NU_NOTA_CN 0.00000 63.07232 477.89218\n",
      "     NU_NOTA_CH 0.00000 66.12944 509.89328\n",
      "     NU_NOTA_LC 0.00000 49.32933 522.40771\n",
      "     NU_NOTA_MT 0.00000 90.10294 523.24615\n",
      "NU_NOTA_REDACAO 0.00000 132.55246 579.83209\n"
     ]
    }
   ],
   "source": [
    "b = run_dummy_regressor(0.35)"
   ]
  },
  {
   "cell_type": "code",
   "execution_count": 20,
   "metadata": {
    "colab": {
     "base_uri": "https://localhost:8080/"
    },
    "id": "2kcyxQe9ceFf",
    "outputId": "3d6903e4-5067-4ffb-eea7-3956399ed492"
   },
   "outputs": [
    {
     "name": "stdout",
     "output_type": "stream",
     "text": [
      "0.4 Index(['NU_NOTA_CN', 'NU_NOTA_CH', 'NU_NOTA_LC', 'NU_NOTA_MT',\n",
      "       'NU_NOTA_REDACAO'],\n",
      "      dtype='object')\n",
      "Parâmetros: \"explained_variance_score\"  \"mean_absolute_error\"  \"max_error\"\n",
      "\n",
      "     NU_NOTA_CN 0.00000 63.07232 477.89218\n",
      "     NU_NOTA_CH 0.00000 66.12944 509.89328\n",
      "     NU_NOTA_LC 0.00000 49.32933 522.40771\n",
      "     NU_NOTA_MT 0.00000 90.10294 523.24615\n",
      "NU_NOTA_REDACAO 0.00000 132.55246 579.83209\n"
     ]
    }
   ],
   "source": [
    "c = run_dummy_regressor(0.4)"
   ]
  },
  {
   "cell_type": "code",
   "execution_count": 21,
   "metadata": {
    "id": "NByR9EsY-zcY"
   },
   "outputs": [],
   "source": [
    "resultados['dummy'] = (exceto_provas, a, b, c)"
   ]
  },
  {
   "cell_type": "markdown",
   "metadata": {
    "id": "VYMcuqIKcwR1"
   },
   "source": [
    "## Linear Regression"
   ]
  },
  {
   "cell_type": "code",
   "execution_count": 22,
   "metadata": {
    "id": "I90GHL1_c2Jd"
   },
   "outputs": [],
   "source": [
    "from sklearn.linear_model import LinearRegression\n",
    "\n",
    "def run_linear_regression(valor):\n",
    "    return ml_por_valor_minimo(valor, LinearRegression)"
   ]
  },
  {
   "cell_type": "code",
   "execution_count": 23,
   "metadata": {
    "colab": {
     "base_uri": "https://localhost:8080/"
    },
    "id": "ui3RSDpCrcR5",
    "outputId": "1441807f-6414-402e-fadf-2e39ab46e741"
   },
   "outputs": [
    {
     "name": "stdout",
     "output_type": "stream",
     "text": [
      "colunas: \n",
      "['NU_IDADE', 'TP_SEXO', 'TP_ESTADO_CIVIL', 'TP_COR_RACA', 'TP_NACIONALIDADE', \n",
      "    'TP_ST_CONCLUSAO', 'TP_ANO_CONCLUIU', 'TP_ESCOLA', 'TP_ENSINO', 'IN_TREINEIRO', \n",
      "    'TP_LINGUA', 'Q001', 'Q002', 'Q003', 'Q004', 'Q005', 'Q006', 'Q007', 'Q008', 'Q009', \n",
      "    'Q010', 'Q011', 'Q012', 'Q022', 'Q023', 'Q024', 'Q025', 'IN_ESPECIALIZADO', 'IN_ESPECIFICO', 'IN_RECURSO']\n",
      "Parâmetros: \"explained_variance_score\"  \"mean_absolute_error\"  \"max_error\"\n",
      "\n",
      "     NU_NOTA_CN 0.24393 51.15700 584.77344\n",
      "     NU_NOTA_CH 0.22413 55.11356 596.35645\n",
      "     NU_NOTA_LC 0.25026 40.80415 584.22461\n",
      "     NU_NOTA_MT 0.28852 70.24385 674.51562\n",
      "NU_NOTA_REDACAO 0.17371 118.76622 841.93750\n"
     ]
    }
   ],
   "source": [
    "exceto_provas = ml_todos_exceto_provas(LinearRegression)"
   ]
  },
  {
   "cell_type": "code",
   "execution_count": 24,
   "metadata": {
    "colab": {
     "base_uri": "https://localhost:8080/"
    },
    "id": "D3PW2rOydRdK",
    "outputId": "48d8de83-b1df-4e58-faa9-aa0368ca16bc"
   },
   "outputs": [
    {
     "name": "stdout",
     "output_type": "stream",
     "text": [
      "0.3 Index(['NU_NOTA_CN', 'NU_NOTA_CH', 'NU_NOTA_LC', 'NU_NOTA_MT',\n",
      "       'NU_NOTA_REDACAO', 'Q006', 'Q008', 'Q024'],\n",
      "      dtype='object')\n",
      "Parâmetros: \"explained_variance_score\"  \"mean_absolute_error\"  \"max_error\"\n",
      "\n",
      "     NU_NOTA_CN 0.57277 39.56565 626.59534\n",
      "     NU_NOTA_CH 0.63745 37.33591 633.38733\n",
      "     NU_NOTA_LC 0.62103 29.03033 555.85461\n",
      "     NU_NOTA_MT 0.52640 60.23179 666.69019\n",
      "NU_NOTA_REDACAO 0.36833 106.70522 916.34723\n"
     ]
    }
   ],
   "source": [
    "a = run_linear_regression(0.3)"
   ]
  },
  {
   "cell_type": "code",
   "execution_count": 25,
   "metadata": {
    "colab": {
     "base_uri": "https://localhost:8080/"
    },
    "id": "El4tkSfpf0vZ",
    "outputId": "4b61cdac-31b7-4f4a-a76d-eaf567414fd7"
   },
   "outputs": [
    {
     "name": "stdout",
     "output_type": "stream",
     "text": [
      "0.35 Index(['NU_NOTA_CN', 'NU_NOTA_CH', 'NU_NOTA_LC', 'NU_NOTA_MT',\n",
      "       'NU_NOTA_REDACAO', 'Q006'],\n",
      "      dtype='object')\n",
      "Parâmetros: \"explained_variance_score\"  \"mean_absolute_error\"  \"max_error\"\n",
      "\n",
      "     NU_NOTA_CN 0.57139 39.63287 624.41473\n",
      "     NU_NOTA_CH 0.63696 37.36345 631.88232\n",
      "     NU_NOTA_LC 0.62018 29.06752 554.77026\n",
      "     NU_NOTA_MT 0.52411 60.38047 673.86932\n",
      "NU_NOTA_REDACAO 0.36768 106.76864 915.85162\n"
     ]
    }
   ],
   "source": [
    "b = run_linear_regression(0.35)"
   ]
  },
  {
   "cell_type": "code",
   "execution_count": 26,
   "metadata": {
    "colab": {
     "base_uri": "https://localhost:8080/"
    },
    "id": "9PLun-52f0c8",
    "outputId": "6e147afc-2281-4539-892e-6be71047a501"
   },
   "outputs": [
    {
     "name": "stdout",
     "output_type": "stream",
     "text": [
      "0.4 Index(['NU_NOTA_CN', 'NU_NOTA_CH', 'NU_NOTA_LC', 'NU_NOTA_MT',\n",
      "       'NU_NOTA_REDACAO'],\n",
      "      dtype='object')\n",
      "Parâmetros: \"explained_variance_score\"  \"mean_absolute_error\"  \"max_error\"\n",
      "\n",
      "     NU_NOTA_CN 0.56576 39.89288 614.75793\n",
      "     NU_NOTA_CH 0.63620 37.39812 628.02771\n",
      "     NU_NOTA_LC 0.61630 29.22213 553.27228\n",
      "     NU_NOTA_MT 0.50175 61.89783 629.22583\n",
      "NU_NOTA_REDACAO 0.36663 106.94009 909.58813\n"
     ]
    }
   ],
   "source": [
    "c = run_linear_regression(0.4)"
   ]
  },
  {
   "cell_type": "code",
   "execution_count": 27,
   "metadata": {
    "id": "PZOZHLuA__yO"
   },
   "outputs": [],
   "source": [
    "resultados['linear'] = (exceto_provas, a, b, c)"
   ]
  },
  {
   "cell_type": "markdown",
   "metadata": {
    "id": "PjuGwaUb8Y2S"
   },
   "source": [
    "## Decision Tree"
   ]
  },
  {
   "cell_type": "code",
   "execution_count": 28,
   "metadata": {
    "id": "EtqUOuWH04nU"
   },
   "outputs": [],
   "source": [
    "from sklearn.tree import DecisionTreeRegressor\n",
    "\n",
    "def run_decision_tree(valor):\n",
    "    return ml_por_valor_minimo(valor, DecisionTreeRegressor, max_depth=10)"
   ]
  },
  {
   "cell_type": "code",
   "execution_count": 29,
   "metadata": {
    "colab": {
     "base_uri": "https://localhost:8080/"
    },
    "id": "o3REwSty9AYE",
    "outputId": "51cf5f91-bb80-45d6-f78e-810324e843b4"
   },
   "outputs": [
    {
     "name": "stdout",
     "output_type": "stream",
     "text": [
      "colunas: \n",
      "['NU_IDADE', 'TP_SEXO', 'TP_ESTADO_CIVIL', 'TP_COR_RACA', 'TP_NACIONALIDADE', \n",
      "    'TP_ST_CONCLUSAO', 'TP_ANO_CONCLUIU', 'TP_ESCOLA', 'TP_ENSINO', 'IN_TREINEIRO', \n",
      "    'TP_LINGUA', 'Q001', 'Q002', 'Q003', 'Q004', 'Q005', 'Q006', 'Q007', 'Q008', 'Q009', \n",
      "    'Q010', 'Q011', 'Q012', 'Q022', 'Q023', 'Q024', 'Q025', 'IN_ESPECIALIZADO', 'IN_ESPECIFICO', 'IN_RECURSO']\n",
      "Parâmetros: \"explained_variance_score\"  \"mean_absolute_error\"  \"max_error\"\n",
      "\n",
      "     NU_NOTA_CN 0.22658 51.75351 592.91595\n",
      "     NU_NOTA_CH 0.20689 55.79218 608.57095\n",
      "     NU_NOTA_LC 0.22704 41.44436 583.60000\n",
      "     NU_NOTA_MT 0.26928 71.12720 706.48018\n",
      "NU_NOTA_REDACAO 0.16414 119.36995 880.00000\n"
     ]
    }
   ],
   "source": [
    "exceto_provas = ml_todos_exceto_provas(DecisionTreeRegressor, max_depth=10)"
   ]
  },
  {
   "cell_type": "code",
   "execution_count": 30,
   "metadata": {
    "colab": {
     "base_uri": "https://localhost:8080/"
    },
    "id": "VEnEgDmM-A5y",
    "outputId": "9bc8419d-2a22-44b8-e123-f66b532eeb29"
   },
   "outputs": [
    {
     "name": "stdout",
     "output_type": "stream",
     "text": [
      "0.3 Index(['NU_NOTA_CN', 'NU_NOTA_CH', 'NU_NOTA_LC', 'NU_NOTA_MT',\n",
      "       'NU_NOTA_REDACAO', 'Q006', 'Q008', 'Q024'],\n",
      "      dtype='object')\n",
      "Parâmetros: \"explained_variance_score\"  \"mean_absolute_error\"  \"max_error\"\n",
      "\n",
      "     NU_NOTA_CN 0.59572 38.55326 647.21757\n",
      "     NU_NOTA_CH 0.64734 36.94651 641.79999\n",
      "     NU_NOTA_LC 0.62229 28.91056 595.00000\n",
      "     NU_NOTA_MT 0.55324 58.28520 801.29999\n",
      "NU_NOTA_REDACAO 0.36901 106.62739 1000.00000\n"
     ]
    }
   ],
   "source": [
    "a = run_decision_tree(0.3)"
   ]
  },
  {
   "cell_type": "code",
   "execution_count": 31,
   "metadata": {
    "colab": {
     "base_uri": "https://localhost:8080/"
    },
    "id": "FyTa3IddAHxP",
    "outputId": "810b121d-c9ed-4b45-b3b9-352fe7c0ee17"
   },
   "outputs": [
    {
     "name": "stdout",
     "output_type": "stream",
     "text": [
      "0.35 Index(['NU_NOTA_CN', 'NU_NOTA_CH', 'NU_NOTA_LC', 'NU_NOTA_MT',\n",
      "       'NU_NOTA_REDACAO', 'Q006'],\n",
      "      dtype='object')\n",
      "Parâmetros: \"explained_variance_score\"  \"mean_absolute_error\"  \"max_error\"\n",
      "\n",
      "     NU_NOTA_CN 0.59542 38.57387 647.21757\n",
      "     NU_NOTA_CH 0.64730 36.94673 641.79999\n",
      "     NU_NOTA_LC 0.62215 28.91228 565.50000\n",
      "     NU_NOTA_MT 0.55290 58.28654 801.29999\n",
      "NU_NOTA_REDACAO 0.36878 106.67979 1000.00000\n"
     ]
    }
   ],
   "source": [
    "b = run_decision_tree(0.35)"
   ]
  },
  {
   "cell_type": "code",
   "execution_count": 32,
   "metadata": {
    "colab": {
     "base_uri": "https://localhost:8080/"
    },
    "id": "4H6qLLqA-v3l",
    "outputId": "7aa0ca5c-8437-4704-841c-aac5ca527967"
   },
   "outputs": [
    {
     "name": "stdout",
     "output_type": "stream",
     "text": [
      "0.4 Index(['NU_NOTA_CN', 'NU_NOTA_CH', 'NU_NOTA_LC', 'NU_NOTA_MT',\n",
      "       'NU_NOTA_REDACAO'],\n",
      "      dtype='object')\n",
      "Parâmetros: \"explained_variance_score\"  \"mean_absolute_error\"  \"max_error\"\n",
      "\n",
      "     NU_NOTA_CN 0.59523 38.57620 647.21757\n",
      "     NU_NOTA_CH 0.64728 36.94599 641.79999\n",
      "     NU_NOTA_LC 0.62224 28.91796 565.50000\n",
      "     NU_NOTA_MT 0.54870 58.59145 801.29999\n",
      "NU_NOTA_REDACAO 0.36891 106.67257 1000.00000\n"
     ]
    }
   ],
   "source": [
    "c = run_decision_tree(0.4)"
   ]
  },
  {
   "cell_type": "code",
   "execution_count": 33,
   "metadata": {
    "id": "c4XKXmIWAr6P"
   },
   "outputs": [],
   "source": [
    "resultados['tree'] = (exceto_provas, a, b, c)"
   ]
  },
  {
   "cell_type": "markdown",
   "metadata": {
    "id": "fUfI8NYyznEV"
   },
   "source": [
    "## SVM \n",
    "\n",
    "Pulado devido ao treino/predição passarem de 30 minutos de execução"
   ]
  },
  {
   "cell_type": "markdown",
   "metadata": {
    "id": "hkjAwQcYAz5i"
   },
   "source": [
    "## Conclusões\n",
    "\n",
    "- Realmente é preciso usar as notas na predição, caso contrário não teremos um resultado razoável\n",
    "- Quanto maior a quantidade de variáveis, mais tempo demora pra executar\n",
    "- Por ser simples, o DummyRegressor nem serviu para o nosso caso\n",
    "- O LinearRegression e o DecisionTreeRegressor tiveram um resultado semelhante\n",
    "- As predições podem ser feitas com uma margem de erro considerável.\n",
    "- As notas que tiveram pior resultado de predição foram as notas de matemática e redação. Com 50% e 37% de precisão e 60 e 107 pontos na margem de erro para as duas provas."
   ]
  }
 ],
 "metadata": {
  "colab": {
   "collapsed_sections": [],
   "name": "Cópia de Machine Learning.ipynb",
   "provenance": []
  },
  "kernelspec": {
   "display_name": "Python 3",
   "language": "python",
   "name": "python3"
  },
  "language_info": {
   "codemirror_mode": {
    "name": "ipython",
    "version": 3
   },
   "file_extension": ".py",
   "mimetype": "text/x-python",
   "name": "python",
   "nbconvert_exporter": "python",
   "pygments_lexer": "ipython3",
   "version": "3.6.9"
  }
 },
 "nbformat": 4,
 "nbformat_minor": 1
}
