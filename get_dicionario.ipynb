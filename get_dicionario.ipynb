{
 "cells": [
  {
   "cell_type": "code",
   "execution_count": 1,
   "metadata": {},
   "outputs": [],
   "source": [
    "import pandas as pd\n",
    "import numpy as np"
   ]
  },
  {
   "cell_type": "code",
   "execution_count": 2,
   "metadata": {},
   "outputs": [],
   "source": [
    "excel = pd.read_excel('dados/Dicionário_Microdados_Enem_2019.xlsx',\n",
    "                      skiprows=[0,1,2],\n",
    "                      names=['variavel', 'descricao', 'categoria', 'desc-categoria', 'tamanho', 'tipo'])\n",
    "\n",
    "# Tem linha com \\n\n",
    "excel['variavel'] = excel['variavel'].str.strip()"
   ]
  },
  {
   "cell_type": "code",
   "execution_count": 3,
   "metadata": {},
   "outputs": [
    {
     "data": {
      "text/plain": [
       "0                                  DADOS DO PARTICIPANTE\n",
       "65                                       DADOS DA ESCOLA\n",
       "84        DADOS DOS PEDIDOS DE ATENDIMENTO ESPECIALIZADO\n",
       "111          DADOS DOS PEDIDOS DE ATENDIMENTO ESPECÍFICO\n",
       "120    DADOS DOS PEDIDOS DE RECURSOS ESPECIALIZADOS E...\n",
       "189                 DADOS DO LOCAL DE APLICAÇÃO DA PROVA\n",
       "198                              DADOS DA PROVA OBJETIVA\n",
       "267                                     DADOS DA REDAÇÃO\n",
       "282                 DADOS DO QUESTIONÁRIO SOCIOECONÔMICO\n",
       "Name: variavel, dtype: object"
      ]
     },
     "execution_count": 3,
     "metadata": {},
     "output_type": "execute_result"
    }
   ],
   "source": [
    "excel['variavel'].where(excel['variavel'].str.startswith('DADO')).dropna()\n",
    "# 0                                  DADOS DO PARTICIPANTE\n",
    "# 65                                       DADOS DA ESCOLA\n",
    "# 84        DADOS DOS PEDIDOS DE ATENDIMENTO ESPECIALIZADO\n",
    "# 111          DADOS DOS PEDIDOS DE ATENDIMENTO ESPECÍFICO\n",
    "# 120    DADOS DOS PEDIDOS DE RECURSOS ESPECIALIZADOS E...\n",
    "# 189                 DADOS DO LOCAL DE APLICAÇÃO DA PROVA\n",
    "# 198                              DADOS DA PROVA OBJETIVA\n",
    "# 267                                     DADOS DA REDAÇÃO\n",
    "# 282                 DADOS DO QUESTIONÁRIO SOCIOECONÔMICO"
   ]
  },
  {
   "cell_type": "code",
   "execution_count": 4,
   "metadata": {},
   "outputs": [],
   "source": [
    "participante = excel.iloc[1:65]\n",
    "escola = excel.iloc[66:84]\n",
    "especializado = excel.iloc[85:111]\n",
    "especifico = excel.iloc[112:120]\n",
    "recurso = excel.iloc[121:189]\n",
    "local_prova = excel.iloc[190:198]\n",
    "prova = excel.iloc[199:267]\n",
    "redacao = excel.iloc[268:282]\n",
    "socioeconomico = excel.iloc[283:-10]"
   ]
  },
  {
   "cell_type": "code",
   "execution_count": 5,
   "metadata": {},
   "outputs": [],
   "source": [
    "footer = excel.iloc[-10:]"
   ]
  },
  {
   "cell_type": "code",
   "execution_count": 6,
   "metadata": {},
   "outputs": [],
   "source": [
    "def variaveis_e_categorias(df):\n",
    "    variaveis = df.where(df['variavel'].notnull()).dropna(how='all')\n",
    "    variaveis['categoria'] = variaveis['categoria'].notnull()\n",
    "    variaveis['tamanho'] = variaveis['tamanho'].astype(np.int64)\n",
    "\n",
    "    categorias = df.where(df['categoria'].notnull()).dropna(how='all').fillna(method='ffill')\n",
    "    categorias['tamanho'] = categorias['tamanho'].astype(np.int64)\n",
    "    return (\n",
    "        #variaveis.drop(columns=['desc-categoria']).set_index('variavel').to_dict(orient='index')\n",
    "        variaveis.drop(columns=['desc-categoria']),\n",
    "        categorias\n",
    "    )"
   ]
  },
  {
   "cell_type": "code",
   "execution_count": 7,
   "metadata": {},
   "outputs": [],
   "source": [
    "loop = [\n",
    "    ('participante', participante),\n",
    "    ('escola', escola),\n",
    "    ('especializado', especializado),\n",
    "    ('especifico', especifico),\n",
    "    ('recurso', recurso),\n",
    "    ('local_prova', local_prova),\n",
    "    ('prova', prova),\n",
    "    ('redacao', redacao),\n",
    "    ('socioeconomico', socioeconomico),\n",
    "]\n",
    "\n",
    "dados = {}\n",
    "categorias = {}\n",
    "\n",
    "def df_categoria_to_dict(df, *args, **kwargs):\n",
    "    cat = df[['categoria', 'desc-categoria']]\n",
    "    l = list(cat.set_index('categoria').to_records())\n",
    "    return { str(item[0]): str(item[1]) for item in l }\n",
    "\n",
    "\n",
    "for label, df in loop:\n",
    "    v, c = variaveis_e_categorias(df)\n",
    "    dados[label] = v.set_index('variavel')['descricao'].to_dict()\n",
    "    \n",
    "    categorias[label] = (\n",
    "        c[['variavel','categoria', 'desc-categoria']].groupby('variavel').apply(df_categoria_to_dict)\n",
    "    ).to_dict()"
   ]
  },
  {
   "cell_type": "code",
   "execution_count": 8,
   "metadata": {},
   "outputs": [],
   "source": [
    "import json\n",
    "\n",
    "with open('dicionario.json', 'w') as f:\n",
    "    json.dump(dados, f, ensure_ascii=False, indent=2)\n",
    "    \n",
    "with open('categorias.json', 'w') as f:\n",
    "    json.dump(categorias, f, ensure_ascii=False, indent=2)"
   ]
  }
 ],
 "metadata": {
  "kernelspec": {
   "display_name": "Python 3",
   "language": "python",
   "name": "python3"
  },
  "language_info": {
   "codemirror_mode": {
    "name": "ipython",
    "version": 3
   },
   "file_extension": ".py",
   "mimetype": "text/x-python",
   "name": "python",
   "nbconvert_exporter": "python",
   "pygments_lexer": "ipython3",
   "version": "3.6.9"
  }
 },
 "nbformat": 4,
 "nbformat_minor": 4
}
